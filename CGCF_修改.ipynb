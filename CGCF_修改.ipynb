{
  "nbformat": 4,
  "nbformat_minor": 0,
  "metadata": {
    "colab": {
      "name": "CGCF_修改.ipynb",
      "provenance": []
    },
    "kernelspec": {
      "name": "python3",
      "display_name": "Python 3"
    },
    "language_info": {
      "name": "python"
    },
    "accelerator": "GPU",
    "widgets": {
      "application/vnd.jupyter.widget-state+json": {
        "c813426804cf446997a0a512933d82ab": {
          "model_module": "@jupyter-widgets/controls",
          "model_name": "HBoxModel",
          "model_module_version": "1.5.0",
          "state": {
            "_view_name": "HBoxView",
            "_dom_classes": [],
            "_model_name": "HBoxModel",
            "_view_module": "@jupyter-widgets/controls",
            "_model_module_version": "1.5.0",
            "_view_count": null,
            "_view_module_version": "1.5.0",
            "box_style": "",
            "layout": "IPY_MODEL_31bee22195624fed8a27fe8a4655caf9",
            "_model_module": "@jupyter-widgets/controls",
            "children": [
              "IPY_MODEL_d56c97706a7e4a1a92b37b0908be5750",
              "IPY_MODEL_6518553edd3f4a0a891e25e569d2e808",
              "IPY_MODEL_3648115a81db4b7bb58587218431ab2b"
            ]
          }
        },
        "31bee22195624fed8a27fe8a4655caf9": {
          "model_module": "@jupyter-widgets/base",
          "model_name": "LayoutModel",
          "model_module_version": "1.2.0",
          "state": {
            "_view_name": "LayoutView",
            "grid_template_rows": null,
            "right": null,
            "justify_content": null,
            "_view_module": "@jupyter-widgets/base",
            "overflow": null,
            "_model_module_version": "1.2.0",
            "_view_count": null,
            "flex_flow": null,
            "width": null,
            "min_width": null,
            "border": null,
            "align_items": null,
            "bottom": null,
            "_model_module": "@jupyter-widgets/base",
            "top": null,
            "grid_column": null,
            "overflow_y": null,
            "overflow_x": null,
            "grid_auto_flow": null,
            "grid_area": null,
            "grid_template_columns": null,
            "flex": null,
            "_model_name": "LayoutModel",
            "justify_items": null,
            "grid_row": null,
            "max_height": null,
            "align_content": null,
            "visibility": null,
            "align_self": null,
            "height": null,
            "min_height": null,
            "padding": null,
            "grid_auto_rows": null,
            "grid_gap": null,
            "max_width": null,
            "order": null,
            "_view_module_version": "1.2.0",
            "grid_template_areas": null,
            "object_position": null,
            "object_fit": null,
            "grid_auto_columns": null,
            "margin": null,
            "display": null,
            "left": null
          }
        },
        "d56c97706a7e4a1a92b37b0908be5750": {
          "model_module": "@jupyter-widgets/controls",
          "model_name": "HTMLModel",
          "model_module_version": "1.5.0",
          "state": {
            "_view_name": "HTMLView",
            "style": "IPY_MODEL_671d099219b24736bb79bb8311abbd3e",
            "_dom_classes": [],
            "description": "",
            "_model_name": "HTMLModel",
            "placeholder": "​",
            "_view_module": "@jupyter-widgets/controls",
            "_model_module_version": "1.5.0",
            "value": "100%",
            "_view_count": null,
            "_view_module_version": "1.5.0",
            "description_tooltip": null,
            "_model_module": "@jupyter-widgets/controls",
            "layout": "IPY_MODEL_d9d3ca5c97504cf8bfbc5d8c26b92c6a"
          }
        },
        "6518553edd3f4a0a891e25e569d2e808": {
          "model_module": "@jupyter-widgets/controls",
          "model_name": "FloatProgressModel",
          "model_module_version": "1.5.0",
          "state": {
            "_view_name": "ProgressView",
            "style": "IPY_MODEL_24df2eaa10574c44a27224fcfcd4b0d5",
            "_dom_classes": [],
            "description": "",
            "_model_name": "FloatProgressModel",
            "bar_style": "success",
            "max": 17813,
            "_view_module": "@jupyter-widgets/controls",
            "_model_module_version": "1.5.0",
            "value": 17813,
            "_view_count": null,
            "_view_module_version": "1.5.0",
            "orientation": "horizontal",
            "min": 0,
            "description_tooltip": null,
            "_model_module": "@jupyter-widgets/controls",
            "layout": "IPY_MODEL_70c4ff63a5c944e99a58d6c88c670f17"
          }
        },
        "3648115a81db4b7bb58587218431ab2b": {
          "model_module": "@jupyter-widgets/controls",
          "model_name": "HTMLModel",
          "model_module_version": "1.5.0",
          "state": {
            "_view_name": "HTMLView",
            "style": "IPY_MODEL_b0f966332e00476aa52aa1fcf01093ad",
            "_dom_classes": [],
            "description": "",
            "_model_name": "HTMLModel",
            "placeholder": "​",
            "_view_module": "@jupyter-widgets/controls",
            "_model_module_version": "1.5.0",
            "value": " 17813/17813 [00:23&lt;00:00, 802.18it/s]",
            "_view_count": null,
            "_view_module_version": "1.5.0",
            "description_tooltip": null,
            "_model_module": "@jupyter-widgets/controls",
            "layout": "IPY_MODEL_b4bac0d3af014d1388aaf36c4043386d"
          }
        },
        "671d099219b24736bb79bb8311abbd3e": {
          "model_module": "@jupyter-widgets/controls",
          "model_name": "DescriptionStyleModel",
          "model_module_version": "1.5.0",
          "state": {
            "_view_name": "StyleView",
            "_model_name": "DescriptionStyleModel",
            "description_width": "",
            "_view_module": "@jupyter-widgets/base",
            "_model_module_version": "1.5.0",
            "_view_count": null,
            "_view_module_version": "1.2.0",
            "_model_module": "@jupyter-widgets/controls"
          }
        },
        "d9d3ca5c97504cf8bfbc5d8c26b92c6a": {
          "model_module": "@jupyter-widgets/base",
          "model_name": "LayoutModel",
          "model_module_version": "1.2.0",
          "state": {
            "_view_name": "LayoutView",
            "grid_template_rows": null,
            "right": null,
            "justify_content": null,
            "_view_module": "@jupyter-widgets/base",
            "overflow": null,
            "_model_module_version": "1.2.0",
            "_view_count": null,
            "flex_flow": null,
            "width": null,
            "min_width": null,
            "border": null,
            "align_items": null,
            "bottom": null,
            "_model_module": "@jupyter-widgets/base",
            "top": null,
            "grid_column": null,
            "overflow_y": null,
            "overflow_x": null,
            "grid_auto_flow": null,
            "grid_area": null,
            "grid_template_columns": null,
            "flex": null,
            "_model_name": "LayoutModel",
            "justify_items": null,
            "grid_row": null,
            "max_height": null,
            "align_content": null,
            "visibility": null,
            "align_self": null,
            "height": null,
            "min_height": null,
            "padding": null,
            "grid_auto_rows": null,
            "grid_gap": null,
            "max_width": null,
            "order": null,
            "_view_module_version": "1.2.0",
            "grid_template_areas": null,
            "object_position": null,
            "object_fit": null,
            "grid_auto_columns": null,
            "margin": null,
            "display": null,
            "left": null
          }
        },
        "24df2eaa10574c44a27224fcfcd4b0d5": {
          "model_module": "@jupyter-widgets/controls",
          "model_name": "ProgressStyleModel",
          "model_module_version": "1.5.0",
          "state": {
            "_view_name": "StyleView",
            "_model_name": "ProgressStyleModel",
            "description_width": "",
            "_view_module": "@jupyter-widgets/base",
            "_model_module_version": "1.5.0",
            "_view_count": null,
            "_view_module_version": "1.2.0",
            "bar_color": null,
            "_model_module": "@jupyter-widgets/controls"
          }
        },
        "70c4ff63a5c944e99a58d6c88c670f17": {
          "model_module": "@jupyter-widgets/base",
          "model_name": "LayoutModel",
          "model_module_version": "1.2.0",
          "state": {
            "_view_name": "LayoutView",
            "grid_template_rows": null,
            "right": null,
            "justify_content": null,
            "_view_module": "@jupyter-widgets/base",
            "overflow": null,
            "_model_module_version": "1.2.0",
            "_view_count": null,
            "flex_flow": null,
            "width": null,
            "min_width": null,
            "border": null,
            "align_items": null,
            "bottom": null,
            "_model_module": "@jupyter-widgets/base",
            "top": null,
            "grid_column": null,
            "overflow_y": null,
            "overflow_x": null,
            "grid_auto_flow": null,
            "grid_area": null,
            "grid_template_columns": null,
            "flex": null,
            "_model_name": "LayoutModel",
            "justify_items": null,
            "grid_row": null,
            "max_height": null,
            "align_content": null,
            "visibility": null,
            "align_self": null,
            "height": null,
            "min_height": null,
            "padding": null,
            "grid_auto_rows": null,
            "grid_gap": null,
            "max_width": null,
            "order": null,
            "_view_module_version": "1.2.0",
            "grid_template_areas": null,
            "object_position": null,
            "object_fit": null,
            "grid_auto_columns": null,
            "margin": null,
            "display": null,
            "left": null
          }
        },
        "b0f966332e00476aa52aa1fcf01093ad": {
          "model_module": "@jupyter-widgets/controls",
          "model_name": "DescriptionStyleModel",
          "model_module_version": "1.5.0",
          "state": {
            "_view_name": "StyleView",
            "_model_name": "DescriptionStyleModel",
            "description_width": "",
            "_view_module": "@jupyter-widgets/base",
            "_model_module_version": "1.5.0",
            "_view_count": null,
            "_view_module_version": "1.2.0",
            "_model_module": "@jupyter-widgets/controls"
          }
        },
        "b4bac0d3af014d1388aaf36c4043386d": {
          "model_module": "@jupyter-widgets/base",
          "model_name": "LayoutModel",
          "model_module_version": "1.2.0",
          "state": {
            "_view_name": "LayoutView",
            "grid_template_rows": null,
            "right": null,
            "justify_content": null,
            "_view_module": "@jupyter-widgets/base",
            "overflow": null,
            "_model_module_version": "1.2.0",
            "_view_count": null,
            "flex_flow": null,
            "width": null,
            "min_width": null,
            "border": null,
            "align_items": null,
            "bottom": null,
            "_model_module": "@jupyter-widgets/base",
            "top": null,
            "grid_column": null,
            "overflow_y": null,
            "overflow_x": null,
            "grid_auto_flow": null,
            "grid_area": null,
            "grid_template_columns": null,
            "flex": null,
            "_model_name": "LayoutModel",
            "justify_items": null,
            "grid_row": null,
            "max_height": null,
            "align_content": null,
            "visibility": null,
            "align_self": null,
            "height": null,
            "min_height": null,
            "padding": null,
            "grid_auto_rows": null,
            "grid_gap": null,
            "max_width": null,
            "order": null,
            "_view_module_version": "1.2.0",
            "grid_template_areas": null,
            "object_position": null,
            "object_fit": null,
            "grid_auto_columns": null,
            "margin": null,
            "display": null,
            "left": null
          }
        },
        "7e4e0fcb5fa243f381f6eafe686589a8": {
          "model_module": "@jupyter-widgets/controls",
          "model_name": "HBoxModel",
          "model_module_version": "1.5.0",
          "state": {
            "_view_name": "HBoxView",
            "_dom_classes": [],
            "_model_name": "HBoxModel",
            "_view_module": "@jupyter-widgets/controls",
            "_model_module_version": "1.5.0",
            "_view_count": null,
            "_view_module_version": "1.5.0",
            "box_style": "",
            "layout": "IPY_MODEL_997067d39f9741d28bd41ed246276aef",
            "_model_module": "@jupyter-widgets/controls",
            "children": [
              "IPY_MODEL_934b58ef2155479f8a6d26b1538a8c4a",
              "IPY_MODEL_bbb37afe107548f6ab900b3ba2a2c621",
              "IPY_MODEL_5ec17aed332f4e4aaa97e9f9145110a1"
            ]
          }
        },
        "997067d39f9741d28bd41ed246276aef": {
          "model_module": "@jupyter-widgets/base",
          "model_name": "LayoutModel",
          "model_module_version": "1.2.0",
          "state": {
            "_view_name": "LayoutView",
            "grid_template_rows": null,
            "right": null,
            "justify_content": null,
            "_view_module": "@jupyter-widgets/base",
            "overflow": null,
            "_model_module_version": "1.2.0",
            "_view_count": null,
            "flex_flow": null,
            "width": null,
            "min_width": null,
            "border": null,
            "align_items": null,
            "bottom": null,
            "_model_module": "@jupyter-widgets/base",
            "top": null,
            "grid_column": null,
            "overflow_y": null,
            "overflow_x": null,
            "grid_auto_flow": null,
            "grid_area": null,
            "grid_template_columns": null,
            "flex": null,
            "_model_name": "LayoutModel",
            "justify_items": null,
            "grid_row": null,
            "max_height": null,
            "align_content": null,
            "visibility": null,
            "align_self": null,
            "height": null,
            "min_height": null,
            "padding": null,
            "grid_auto_rows": null,
            "grid_gap": null,
            "max_width": null,
            "order": null,
            "_view_module_version": "1.2.0",
            "grid_template_areas": null,
            "object_position": null,
            "object_fit": null,
            "grid_auto_columns": null,
            "margin": null,
            "display": null,
            "left": null
          }
        },
        "934b58ef2155479f8a6d26b1538a8c4a": {
          "model_module": "@jupyter-widgets/controls",
          "model_name": "HTMLModel",
          "model_module_version": "1.5.0",
          "state": {
            "_view_name": "HTMLView",
            "style": "IPY_MODEL_188f95e9357a4680a9b09111c73f44de",
            "_dom_classes": [],
            "description": "",
            "_model_name": "HTMLModel",
            "placeholder": "​",
            "_view_module": "@jupyter-widgets/controls",
            "_model_module_version": "1.5.0",
            "value": "100%",
            "_view_count": null,
            "_view_module_version": "1.5.0",
            "description_tooltip": null,
            "_model_module": "@jupyter-widgets/controls",
            "layout": "IPY_MODEL_75b7da8645d943bf9e3ad325f42a53b7"
          }
        },
        "bbb37afe107548f6ab900b3ba2a2c621": {
          "model_module": "@jupyter-widgets/controls",
          "model_name": "FloatProgressModel",
          "model_module_version": "1.5.0",
          "state": {
            "_view_name": "ProgressView",
            "style": "IPY_MODEL_4fae7d44dd324b28b02995ecdd02db5f",
            "_dom_classes": [],
            "description": "",
            "_model_name": "FloatProgressModel",
            "bar_style": "success",
            "max": 17813,
            "_view_module": "@jupyter-widgets/controls",
            "_model_module_version": "1.5.0",
            "value": 17813,
            "_view_count": null,
            "_view_module_version": "1.5.0",
            "orientation": "horizontal",
            "min": 0,
            "description_tooltip": null,
            "_model_module": "@jupyter-widgets/controls",
            "layout": "IPY_MODEL_66195ed69ebc4ab1bd5bf6a595a2d207"
          }
        },
        "5ec17aed332f4e4aaa97e9f9145110a1": {
          "model_module": "@jupyter-widgets/controls",
          "model_name": "HTMLModel",
          "model_module_version": "1.5.0",
          "state": {
            "_view_name": "HTMLView",
            "style": "IPY_MODEL_03d18569ffe647d3a40c17cd2939df4b",
            "_dom_classes": [],
            "description": "",
            "_model_name": "HTMLModel",
            "placeholder": "​",
            "_view_module": "@jupyter-widgets/controls",
            "_model_module_version": "1.5.0",
            "value": " 17813/17813 [00:24&lt;00:00, 792.70it/s]",
            "_view_count": null,
            "_view_module_version": "1.5.0",
            "description_tooltip": null,
            "_model_module": "@jupyter-widgets/controls",
            "layout": "IPY_MODEL_563d682cf69b4fb1abc49dd2a6ed629a"
          }
        },
        "188f95e9357a4680a9b09111c73f44de": {
          "model_module": "@jupyter-widgets/controls",
          "model_name": "DescriptionStyleModel",
          "model_module_version": "1.5.0",
          "state": {
            "_view_name": "StyleView",
            "_model_name": "DescriptionStyleModel",
            "description_width": "",
            "_view_module": "@jupyter-widgets/base",
            "_model_module_version": "1.5.0",
            "_view_count": null,
            "_view_module_version": "1.2.0",
            "_model_module": "@jupyter-widgets/controls"
          }
        },
        "75b7da8645d943bf9e3ad325f42a53b7": {
          "model_module": "@jupyter-widgets/base",
          "model_name": "LayoutModel",
          "model_module_version": "1.2.0",
          "state": {
            "_view_name": "LayoutView",
            "grid_template_rows": null,
            "right": null,
            "justify_content": null,
            "_view_module": "@jupyter-widgets/base",
            "overflow": null,
            "_model_module_version": "1.2.0",
            "_view_count": null,
            "flex_flow": null,
            "width": null,
            "min_width": null,
            "border": null,
            "align_items": null,
            "bottom": null,
            "_model_module": "@jupyter-widgets/base",
            "top": null,
            "grid_column": null,
            "overflow_y": null,
            "overflow_x": null,
            "grid_auto_flow": null,
            "grid_area": null,
            "grid_template_columns": null,
            "flex": null,
            "_model_name": "LayoutModel",
            "justify_items": null,
            "grid_row": null,
            "max_height": null,
            "align_content": null,
            "visibility": null,
            "align_self": null,
            "height": null,
            "min_height": null,
            "padding": null,
            "grid_auto_rows": null,
            "grid_gap": null,
            "max_width": null,
            "order": null,
            "_view_module_version": "1.2.0",
            "grid_template_areas": null,
            "object_position": null,
            "object_fit": null,
            "grid_auto_columns": null,
            "margin": null,
            "display": null,
            "left": null
          }
        },
        "4fae7d44dd324b28b02995ecdd02db5f": {
          "model_module": "@jupyter-widgets/controls",
          "model_name": "ProgressStyleModel",
          "model_module_version": "1.5.0",
          "state": {
            "_view_name": "StyleView",
            "_model_name": "ProgressStyleModel",
            "description_width": "",
            "_view_module": "@jupyter-widgets/base",
            "_model_module_version": "1.5.0",
            "_view_count": null,
            "_view_module_version": "1.2.0",
            "bar_color": null,
            "_model_module": "@jupyter-widgets/controls"
          }
        },
        "66195ed69ebc4ab1bd5bf6a595a2d207": {
          "model_module": "@jupyter-widgets/base",
          "model_name": "LayoutModel",
          "model_module_version": "1.2.0",
          "state": {
            "_view_name": "LayoutView",
            "grid_template_rows": null,
            "right": null,
            "justify_content": null,
            "_view_module": "@jupyter-widgets/base",
            "overflow": null,
            "_model_module_version": "1.2.0",
            "_view_count": null,
            "flex_flow": null,
            "width": null,
            "min_width": null,
            "border": null,
            "align_items": null,
            "bottom": null,
            "_model_module": "@jupyter-widgets/base",
            "top": null,
            "grid_column": null,
            "overflow_y": null,
            "overflow_x": null,
            "grid_auto_flow": null,
            "grid_area": null,
            "grid_template_columns": null,
            "flex": null,
            "_model_name": "LayoutModel",
            "justify_items": null,
            "grid_row": null,
            "max_height": null,
            "align_content": null,
            "visibility": null,
            "align_self": null,
            "height": null,
            "min_height": null,
            "padding": null,
            "grid_auto_rows": null,
            "grid_gap": null,
            "max_width": null,
            "order": null,
            "_view_module_version": "1.2.0",
            "grid_template_areas": null,
            "object_position": null,
            "object_fit": null,
            "grid_auto_columns": null,
            "margin": null,
            "display": null,
            "left": null
          }
        },
        "03d18569ffe647d3a40c17cd2939df4b": {
          "model_module": "@jupyter-widgets/controls",
          "model_name": "DescriptionStyleModel",
          "model_module_version": "1.5.0",
          "state": {
            "_view_name": "StyleView",
            "_model_name": "DescriptionStyleModel",
            "description_width": "",
            "_view_module": "@jupyter-widgets/base",
            "_model_module_version": "1.5.0",
            "_view_count": null,
            "_view_module_version": "1.2.0",
            "_model_module": "@jupyter-widgets/controls"
          }
        },
        "563d682cf69b4fb1abc49dd2a6ed629a": {
          "model_module": "@jupyter-widgets/base",
          "model_name": "LayoutModel",
          "model_module_version": "1.2.0",
          "state": {
            "_view_name": "LayoutView",
            "grid_template_rows": null,
            "right": null,
            "justify_content": null,
            "_view_module": "@jupyter-widgets/base",
            "overflow": null,
            "_model_module_version": "1.2.0",
            "_view_count": null,
            "flex_flow": null,
            "width": null,
            "min_width": null,
            "border": null,
            "align_items": null,
            "bottom": null,
            "_model_module": "@jupyter-widgets/base",
            "top": null,
            "grid_column": null,
            "overflow_y": null,
            "overflow_x": null,
            "grid_auto_flow": null,
            "grid_area": null,
            "grid_template_columns": null,
            "flex": null,
            "_model_name": "LayoutModel",
            "justify_items": null,
            "grid_row": null,
            "max_height": null,
            "align_content": null,
            "visibility": null,
            "align_self": null,
            "height": null,
            "min_height": null,
            "padding": null,
            "grid_auto_rows": null,
            "grid_gap": null,
            "max_width": null,
            "order": null,
            "_view_module_version": "1.2.0",
            "grid_template_areas": null,
            "object_position": null,
            "object_fit": null,
            "grid_auto_columns": null,
            "margin": null,
            "display": null,
            "left": null
          }
        }
      }
    }
  },
  "cells": [
    {
      "cell_type": "code",
      "source": [
        "!pip install torch==1.9.0+cu111 torchvision==0.10.0+cu111 torchaudio==0.9.0 -f https://download.pytorch.org/whl/torch_stable.html"
      ],
      "metadata": {
        "colab": {
          "base_uri": "https://localhost:8080/"
        },
        "id": "hgRHDz3Gvvpx",
        "outputId": "3a309346-17f9-4399-e879-58b8b30de003"
      },
      "execution_count": 1,
      "outputs": [
        {
          "output_type": "stream",
          "name": "stdout",
          "text": [
            "Looking in links: https://download.pytorch.org/whl/torch_stable.html\n",
            "Requirement already satisfied: torch==1.9.0+cu111 in /usr/local/lib/python3.7/dist-packages (1.9.0+cu111)\n",
            "Requirement already satisfied: torchvision==0.10.0+cu111 in /usr/local/lib/python3.7/dist-packages (0.10.0+cu111)\n",
            "Requirement already satisfied: torchaudio==0.9.0 in /usr/local/lib/python3.7/dist-packages (0.9.0)\n",
            "Requirement already satisfied: typing-extensions in /usr/local/lib/python3.7/dist-packages (from torch==1.9.0+cu111) (3.10.0.2)\n",
            "Requirement already satisfied: pillow>=5.3.0 in /usr/local/lib/python3.7/dist-packages (from torchvision==0.10.0+cu111) (7.1.2)\n",
            "Requirement already satisfied: numpy in /usr/local/lib/python3.7/dist-packages (from torchvision==0.10.0+cu111) (1.19.5)\n"
          ]
        }
      ]
    },
    {
      "cell_type": "code",
      "source": [
        "!git clone https://github.com/MinkaiXu/CGCF-ConfGen"
      ],
      "metadata": {
        "colab": {
          "base_uri": "https://localhost:8080/"
        },
        "id": "Y0jhLv9-yMSw",
        "outputId": "51bf2fc0-5cf5-4348-962e-021255ed12f2"
      },
      "execution_count": 1,
      "outputs": [
        {
          "output_type": "stream",
          "name": "stdout",
          "text": [
            "Cloning into 'CGCF-ConfGen'...\n",
            "remote: Enumerating objects: 74, done.\u001b[K\n",
            "remote: Counting objects: 100% (74/74), done.\u001b[K\n",
            "remote: Compressing objects: 100% (71/71), done.\u001b[K\n",
            "remote: Total 74 (delta 25), reused 34 (delta 1), pack-reused 0\u001b[K\n",
            "Unpacking objects: 100% (74/74), done.\n"
          ]
        }
      ]
    },
    {
      "cell_type": "code",
      "source": [
        "!pip install torch==1.9.0+cu111 torchvision==0.10.0+cu111 torchaudio==0.9.0 -f https://download.pytorch.org/whl/torch_stable.html\n",
        "!pip install torch-scatter torch-sparse torch-cluster torch-spline-conv torch-geometric -f https://data.pyg.org/whl/torch-1.9.0+cu111.html"
      ],
      "metadata": {
        "colab": {
          "base_uri": "https://localhost:8080/"
        },
        "id": "sEJVrbzSqnyg",
        "outputId": "3b6f8c0a-f1dc-4f28-d8ab-9570df25382f"
      },
      "execution_count": 3,
      "outputs": [
        {
          "output_type": "stream",
          "name": "stdout",
          "text": [
            "Collecting torch==1.9.0\n",
            "  Downloading torch-1.9.0-cp37-cp37m-manylinux1_x86_64.whl (831.4 MB)\n",
            "\u001b[K     |████████████████████████████████| 831.4 MB 2.5 kB/s \n",
            "\u001b[?25hRequirement already satisfied: typing-extensions in /usr/local/lib/python3.7/dist-packages (from torch==1.9.0) (3.10.0.2)\n",
            "Installing collected packages: torch\n",
            "  Attempting uninstall: torch\n",
            "    Found existing installation: torch 1.10.0+cu111\n",
            "    Uninstalling torch-1.10.0+cu111:\n",
            "      Successfully uninstalled torch-1.10.0+cu111\n",
            "\u001b[31mERROR: pip's dependency resolver does not currently take into account all the packages that are installed. This behaviour is the source of the following dependency conflicts.\n",
            "torchvision 0.11.1+cu111 requires torch==1.10.0, but you have torch 1.9.0 which is incompatible.\n",
            "torchtext 0.11.0 requires torch==1.10.0, but you have torch 1.9.0 which is incompatible.\n",
            "torchaudio 0.10.0+cu111 requires torch==1.10.0, but you have torch 1.9.0 which is incompatible.\u001b[0m\n",
            "Successfully installed torch-1.9.0\n",
            "Looking in links: https://data.pyg.org/whl/torch-1.9.0+cu111.html\n",
            "Collecting torch-scatter\n",
            "  Downloading https://data.pyg.org/whl/torch-1.9.0%2Bcu111/torch_scatter-2.0.9-cp37-cp37m-linux_x86_64.whl (10.4 MB)\n",
            "\u001b[K     |████████████████████████████████| 10.4 MB 4.2 MB/s \n",
            "\u001b[?25hCollecting torch-sparse\n",
            "  Downloading https://data.pyg.org/whl/torch-1.9.0%2Bcu111/torch_sparse-0.6.12-cp37-cp37m-linux_x86_64.whl (3.7 MB)\n",
            "\u001b[K     |████████████████████████████████| 3.7 MB 42.8 MB/s \n",
            "\u001b[?25hCollecting torch-cluster\n",
            "  Downloading https://data.pyg.org/whl/torch-1.9.0%2Bcu111/torch_cluster-1.5.9-cp37-cp37m-linux_x86_64.whl (1.6 MB)\n",
            "\u001b[K     |████████████████████████████████| 1.6 MB 244 kB/s \n",
            "\u001b[?25hCollecting torch-spline-conv\n",
            "  Downloading https://data.pyg.org/whl/torch-1.9.0%2Bcu111/torch_spline_conv-1.2.1-cp37-cp37m-linux_x86_64.whl (870 kB)\n",
            "\u001b[K     |████████████████████████████████| 870 kB 192 kB/s \n",
            "\u001b[?25hCollecting torch-geometric\n",
            "  Downloading torch_geometric-2.0.3.tar.gz (370 kB)\n",
            "\u001b[K     |████████████████████████████████| 370 kB 4.2 MB/s \n",
            "\u001b[?25hRequirement already satisfied: scipy in /usr/local/lib/python3.7/dist-packages (from torch-sparse) (1.4.1)\n",
            "Requirement already satisfied: numpy in /usr/local/lib/python3.7/dist-packages (from torch-geometric) (1.19.5)\n",
            "Requirement already satisfied: tqdm in /usr/local/lib/python3.7/dist-packages (from torch-geometric) (4.62.3)\n",
            "Requirement already satisfied: networkx in /usr/local/lib/python3.7/dist-packages (from torch-geometric) (2.6.3)\n",
            "Requirement already satisfied: scikit-learn in /usr/local/lib/python3.7/dist-packages (from torch-geometric) (1.0.2)\n",
            "Requirement already satisfied: requests in /usr/local/lib/python3.7/dist-packages (from torch-geometric) (2.23.0)\n",
            "Requirement already satisfied: pandas in /usr/local/lib/python3.7/dist-packages (from torch-geometric) (1.1.5)\n",
            "Collecting rdflib\n",
            "  Downloading rdflib-6.1.1-py3-none-any.whl (482 kB)\n",
            "\u001b[K     |████████████████████████████████| 482 kB 71.9 MB/s \n",
            "\u001b[?25hRequirement already satisfied: googledrivedownloader in /usr/local/lib/python3.7/dist-packages (from torch-geometric) (0.4)\n",
            "Requirement already satisfied: jinja2 in /usr/local/lib/python3.7/dist-packages (from torch-geometric) (2.11.3)\n",
            "Requirement already satisfied: pyparsing in /usr/local/lib/python3.7/dist-packages (from torch-geometric) (3.0.6)\n",
            "Collecting yacs\n",
            "  Downloading yacs-0.1.8-py3-none-any.whl (14 kB)\n",
            "Requirement already satisfied: PyYAML in /usr/local/lib/python3.7/dist-packages (from torch-geometric) (3.13)\n",
            "Requirement already satisfied: MarkupSafe>=0.23 in /usr/local/lib/python3.7/dist-packages (from jinja2->torch-geometric) (2.0.1)\n",
            "Requirement already satisfied: pytz>=2017.2 in /usr/local/lib/python3.7/dist-packages (from pandas->torch-geometric) (2018.9)\n",
            "Requirement already satisfied: python-dateutil>=2.7.3 in /usr/local/lib/python3.7/dist-packages (from pandas->torch-geometric) (2.8.2)\n",
            "Requirement already satisfied: six>=1.5 in /usr/local/lib/python3.7/dist-packages (from python-dateutil>=2.7.3->pandas->torch-geometric) (1.15.0)\n",
            "Requirement already satisfied: setuptools in /usr/local/lib/python3.7/dist-packages (from rdflib->torch-geometric) (57.4.0)\n",
            "Collecting isodate\n",
            "  Downloading isodate-0.6.1-py2.py3-none-any.whl (41 kB)\n",
            "\u001b[K     |████████████████████████████████| 41 kB 779 kB/s \n",
            "\u001b[?25hRequirement already satisfied: importlib-metadata in /usr/local/lib/python3.7/dist-packages (from rdflib->torch-geometric) (4.10.0)\n",
            "Requirement already satisfied: typing-extensions>=3.6.4 in /usr/local/lib/python3.7/dist-packages (from importlib-metadata->rdflib->torch-geometric) (3.10.0.2)\n",
            "Requirement already satisfied: zipp>=0.5 in /usr/local/lib/python3.7/dist-packages (from importlib-metadata->rdflib->torch-geometric) (3.7.0)\n",
            "Requirement already satisfied: idna<3,>=2.5 in /usr/local/lib/python3.7/dist-packages (from requests->torch-geometric) (2.10)\n",
            "Requirement already satisfied: urllib3!=1.25.0,!=1.25.1,<1.26,>=1.21.1 in /usr/local/lib/python3.7/dist-packages (from requests->torch-geometric) (1.24.3)\n",
            "Requirement already satisfied: certifi>=2017.4.17 in /usr/local/lib/python3.7/dist-packages (from requests->torch-geometric) (2021.10.8)\n",
            "Requirement already satisfied: chardet<4,>=3.0.2 in /usr/local/lib/python3.7/dist-packages (from requests->torch-geometric) (3.0.4)\n",
            "Requirement already satisfied: threadpoolctl>=2.0.0 in /usr/local/lib/python3.7/dist-packages (from scikit-learn->torch-geometric) (3.0.0)\n",
            "Requirement already satisfied: joblib>=0.11 in /usr/local/lib/python3.7/dist-packages (from scikit-learn->torch-geometric) (1.1.0)\n",
            "Building wheels for collected packages: torch-geometric\n",
            "  Building wheel for torch-geometric (setup.py) ... \u001b[?25l\u001b[?25hdone\n",
            "  Created wheel for torch-geometric: filename=torch_geometric-2.0.3-py3-none-any.whl size=581968 sha256=9cab50e6ae30b08cf44f9d36a6f79456b6e5b85fc1bdee7c6d7bd117a1d0f800\n",
            "  Stored in directory: /root/.cache/pip/wheels/c3/2a/58/87ce0508964d4def1aafb92750c4f3ac77038efd1b9a89dcf5\n",
            "Successfully built torch-geometric\n",
            "Installing collected packages: isodate, yacs, rdflib, torch-spline-conv, torch-sparse, torch-scatter, torch-geometric, torch-cluster\n",
            "Successfully installed isodate-0.6.1 rdflib-6.1.1 torch-cluster-1.5.9 torch-geometric-2.0.3 torch-scatter-2.0.9 torch-sparse-0.6.12 torch-spline-conv-1.2.1 yacs-0.1.8\n"
          ]
        }
      ]
    },
    {
      "cell_type": "code",
      "source": [
        "pip install torchdiffeq==0.0.1"
      ],
      "metadata": {
        "colab": {
          "base_uri": "https://localhost:8080/"
        },
        "id": "CgcmoADgsg6I",
        "outputId": "b18e843d-ab09-481e-fd6b-4b35bed79877"
      },
      "execution_count": 4,
      "outputs": [
        {
          "output_type": "stream",
          "name": "stdout",
          "text": [
            "Collecting torchdiffeq==0.0.1\n",
            "  Downloading torchdiffeq-0.0.1-py3-none-any.whl (27 kB)\n",
            "Requirement already satisfied: torch>=0.4.1 in /usr/local/lib/python3.7/dist-packages (from torchdiffeq==0.0.1) (1.9.0)\n",
            "Requirement already satisfied: typing-extensions in /usr/local/lib/python3.7/dist-packages (from torch>=0.4.1->torchdiffeq==0.0.1) (3.10.0.2)\n",
            "Installing collected packages: torchdiffeq\n",
            "Successfully installed torchdiffeq-0.0.1\n"
          ]
        }
      ]
    },
    {
      "cell_type": "code",
      "source": [
        "pip install tqdm networkx scipy scikit-learn h5py tensorboard "
      ],
      "metadata": {
        "colab": {
          "base_uri": "https://localhost:8080/"
        },
        "id": "o7vurPLwslvt",
        "outputId": "31cc5b6c-8fea-499e-c6b2-6fe6bb5a2d6f"
      },
      "execution_count": 5,
      "outputs": [
        {
          "output_type": "stream",
          "name": "stdout",
          "text": [
            "Requirement already satisfied: tqdm in /usr/local/lib/python3.7/dist-packages (4.62.3)\n",
            "Requirement already satisfied: networkx in /usr/local/lib/python3.7/dist-packages (2.6.3)\n",
            "Requirement already satisfied: scipy in /usr/local/lib/python3.7/dist-packages (1.4.1)\n",
            "Requirement already satisfied: scikit-learn in /usr/local/lib/python3.7/dist-packages (1.0.2)\n",
            "Requirement already satisfied: h5py in /usr/local/lib/python3.7/dist-packages (3.1.0)\n",
            "Requirement already satisfied: tensorboard in /usr/local/lib/python3.7/dist-packages (2.7.0)\n",
            "Requirement already satisfied: numpy>=1.13.3 in /usr/local/lib/python3.7/dist-packages (from scipy) (1.19.5)\n",
            "Requirement already satisfied: joblib>=0.11 in /usr/local/lib/python3.7/dist-packages (from scikit-learn) (1.1.0)\n",
            "Requirement already satisfied: threadpoolctl>=2.0.0 in /usr/local/lib/python3.7/dist-packages (from scikit-learn) (3.0.0)\n",
            "Requirement already satisfied: cached-property in /usr/local/lib/python3.7/dist-packages (from h5py) (1.5.2)\n",
            "Requirement already satisfied: werkzeug>=0.11.15 in /usr/local/lib/python3.7/dist-packages (from tensorboard) (1.0.1)\n",
            "Requirement already satisfied: google-auth<3,>=1.6.3 in /usr/local/lib/python3.7/dist-packages (from tensorboard) (1.35.0)\n",
            "Requirement already satisfied: tensorboard-data-server<0.7.0,>=0.6.0 in /usr/local/lib/python3.7/dist-packages (from tensorboard) (0.6.1)\n",
            "Requirement already satisfied: protobuf>=3.6.0 in /usr/local/lib/python3.7/dist-packages (from tensorboard) (3.17.3)\n",
            "Requirement already satisfied: setuptools>=41.0.0 in /usr/local/lib/python3.7/dist-packages (from tensorboard) (57.4.0)\n",
            "Requirement already satisfied: markdown>=2.6.8 in /usr/local/lib/python3.7/dist-packages (from tensorboard) (3.3.6)\n",
            "Requirement already satisfied: absl-py>=0.4 in /usr/local/lib/python3.7/dist-packages (from tensorboard) (0.12.0)\n",
            "Requirement already satisfied: wheel>=0.26 in /usr/local/lib/python3.7/dist-packages (from tensorboard) (0.37.1)\n",
            "Requirement already satisfied: tensorboard-plugin-wit>=1.6.0 in /usr/local/lib/python3.7/dist-packages (from tensorboard) (1.8.1)\n",
            "Requirement already satisfied: requests<3,>=2.21.0 in /usr/local/lib/python3.7/dist-packages (from tensorboard) (2.23.0)\n",
            "Requirement already satisfied: grpcio>=1.24.3 in /usr/local/lib/python3.7/dist-packages (from tensorboard) (1.43.0)\n",
            "Requirement already satisfied: google-auth-oauthlib<0.5,>=0.4.1 in /usr/local/lib/python3.7/dist-packages (from tensorboard) (0.4.6)\n",
            "Requirement already satisfied: six in /usr/local/lib/python3.7/dist-packages (from absl-py>=0.4->tensorboard) (1.15.0)\n",
            "Requirement already satisfied: pyasn1-modules>=0.2.1 in /usr/local/lib/python3.7/dist-packages (from google-auth<3,>=1.6.3->tensorboard) (0.2.8)\n",
            "Requirement already satisfied: cachetools<5.0,>=2.0.0 in /usr/local/lib/python3.7/dist-packages (from google-auth<3,>=1.6.3->tensorboard) (4.2.4)\n",
            "Requirement already satisfied: rsa<5,>=3.1.4 in /usr/local/lib/python3.7/dist-packages (from google-auth<3,>=1.6.3->tensorboard) (4.8)\n",
            "Requirement already satisfied: requests-oauthlib>=0.7.0 in /usr/local/lib/python3.7/dist-packages (from google-auth-oauthlib<0.5,>=0.4.1->tensorboard) (1.3.0)\n",
            "Requirement already satisfied: importlib-metadata>=4.4 in /usr/local/lib/python3.7/dist-packages (from markdown>=2.6.8->tensorboard) (4.10.0)\n",
            "Requirement already satisfied: zipp>=0.5 in /usr/local/lib/python3.7/dist-packages (from importlib-metadata>=4.4->markdown>=2.6.8->tensorboard) (3.7.0)\n",
            "Requirement already satisfied: typing-extensions>=3.6.4 in /usr/local/lib/python3.7/dist-packages (from importlib-metadata>=4.4->markdown>=2.6.8->tensorboard) (3.10.0.2)\n",
            "Requirement already satisfied: pyasn1<0.5.0,>=0.4.6 in /usr/local/lib/python3.7/dist-packages (from pyasn1-modules>=0.2.1->google-auth<3,>=1.6.3->tensorboard) (0.4.8)\n",
            "Requirement already satisfied: certifi>=2017.4.17 in /usr/local/lib/python3.7/dist-packages (from requests<3,>=2.21.0->tensorboard) (2021.10.8)\n",
            "Requirement already satisfied: chardet<4,>=3.0.2 in /usr/local/lib/python3.7/dist-packages (from requests<3,>=2.21.0->tensorboard) (3.0.4)\n",
            "Requirement already satisfied: idna<3,>=2.5 in /usr/local/lib/python3.7/dist-packages (from requests<3,>=2.21.0->tensorboard) (2.10)\n",
            "Requirement already satisfied: urllib3!=1.25.0,!=1.25.1,<1.26,>=1.21.1 in /usr/local/lib/python3.7/dist-packages (from requests<3,>=2.21.0->tensorboard) (1.24.3)\n",
            "Requirement already satisfied: oauthlib>=3.0.0 in /usr/local/lib/python3.7/dist-packages (from requests-oauthlib>=0.7.0->google-auth-oauthlib<0.5,>=0.4.1->tensorboard) (3.1.1)\n"
          ]
        }
      ]
    },
    {
      "cell_type": "code",
      "source": [
        "from google.colab import drive\n",
        "drive.mount('/content/drive')"
      ],
      "metadata": {
        "colab": {
          "base_uri": "https://localhost:8080/"
        },
        "id": "Oh0L_IE31ZJt",
        "outputId": "f138ea57-57b1-4e78-8401-742f02a7c149"
      },
      "execution_count": 2,
      "outputs": [
        {
          "output_type": "stream",
          "name": "stdout",
          "text": [
            "Drive already mounted at /content/drive; to attempt to forcibly remount, call drive.mount(\"/content/drive\", force_remount=True).\n"
          ]
        }
      ]
    },
    {
      "cell_type": "code",
      "source": [
        "from rdkit import Chem\n",
        "from rdkit.Chem.rdchem import Mol, HybridizationType, BondType\n",
        "from rdkit import RDLogger\n",
        "import pickle\n",
        "import torch\n",
        "from tqdm.auto import tqdm\n",
        "from torch_scatter import scatter\n",
        "from torch_geometric.data import Data\n",
        "import copy\n",
        "from torch_geometric.utils import to_networkx"
      ],
      "metadata": {
        "id": "s0rZsznStnDq"
      },
      "execution_count": 48,
      "outputs": []
    },
    {
      "cell_type": "code",
      "source": [
        "def get_data_iterator(iterable):\n",
        "    iterator = iterable.__iter__()\n",
        "    while True:\n",
        "        try:\n",
        "            yield iterator.__next__()\n",
        "        except StopIteration:\n",
        "            iterator = iterable.__iter__()"
      ],
      "metadata": {
        "id": "hBChlyQntAio"
      },
      "execution_count": 49,
      "outputs": []
    },
    {
      "cell_type": "code",
      "source": [
        "def enumerate_conformers(mol):\n",
        "    num_confs = mol.GetNumConformers()\n",
        "    if num_confs == 1:\n",
        "        yield mol\n",
        "        return\n",
        "    mol_templ = copy.deepcopy(mol)\n",
        "    mol_templ.RemoveAllConformers()\n",
        "    for conf_id in tqdm(range(num_confs), desc='Conformer'):\n",
        "        conf = mol.GetConformer(conf_id)\n",
        "        conf.SetId(0)\n",
        "        mol_conf = copy.deepcopy(mol_templ)\n",
        "        conf_id = mol_conf.AddConformer(conf)\n",
        "        yield mol_conf\n",
        "\n",
        "def rdmol_to_data(mol:Mol):\n",
        "    assert mol.GetNumConformers() == 1\n",
        "    N = mol.GetNumAtoms()\n",
        "\n",
        "    pos = torch.tensor(mol.GetConformer(0).GetPositions(), dtype=torch.float)\n",
        "\n",
        "    atomic_number = []\n",
        "    aromatic = []\n",
        "    sp = []\n",
        "    sp2 = []\n",
        "    sp3 = []\n",
        "    num_hs = []\n",
        "    for atom in mol.GetAtoms():\n",
        "        atomic_number.append(atom.GetAtomicNum())\n",
        "        aromatic.append(1 if atom.GetIsAromatic() else 0)\n",
        "        hybridization = atom.GetHybridization()\n",
        "        sp.append(1 if hybridization == HybridizationType.SP else 0)\n",
        "        sp2.append(1 if hybridization == HybridizationType.SP2 else 0)\n",
        "        sp3.append(1 if hybridization == HybridizationType.SP3 else 0)\n",
        "\n",
        "    z = torch.tensor(atomic_number, dtype=torch.long)\n",
        "\n",
        "    row, col, edge_type = [], [], []\n",
        "    for bond in mol.GetBonds():\n",
        "        start, end = bond.GetBeginAtomIdx(), bond.GetEndAtomIdx()\n",
        "        row += [start, end]\n",
        "        col += [end, start]\n",
        "        edge_type += 2 * [BOND_TYPES[bond.GetBondType()]]\n",
        "    #下面定义了BOND_TYPES\n",
        "\n",
        "\n",
        "    edge_index = torch.tensor([row, col], dtype=torch.long)\n",
        "    edge_type = torch.tensor(edge_type)\n",
        "\n",
        "    perm = (edge_index[0] * N + edge_index[1]).argsort()\n",
        "    edge_index = edge_index[:, perm]\n",
        "    edge_type = edge_type[perm]\n",
        "\n",
        "    row, col = edge_index\n",
        "    hs = (z == 1).to(torch.float)\n",
        "    num_hs = scatter(hs[row], col, dim_size=N).tolist()\n",
        "\n",
        "    smiles = Chem.MolToSmiles(mol)\n",
        "\n",
        "    data = Data(node_type=z, pos=pos, edge_index=edge_index, edge_type=edge_type,\n",
        "                rdmol=copy.deepcopy(mol), smiles=smiles)\n",
        "    data.nx = to_networkx(data, to_undirected=True)\n",
        "\n",
        "    return data"
      ],
      "metadata": {
        "id": "ywxL3kVmtLGn"
      },
      "execution_count": 50,
      "outputs": []
    },
    {
      "cell_type": "code",
      "source": [
        "pkl = '/content/drive/MyDrive/test_QM9.pkl'"
      ],
      "metadata": {
        "id": "CFuTb70Ptzfp"
      },
      "execution_count": 51,
      "outputs": []
    },
    {
      "cell_type": "code",
      "source": [
        "def process_pickle(raw_path):\n",
        "    dataset = []\n",
        "    with open(raw_path, 'rb') as f:\n",
        "        mols = pickle.load(f)\n",
        "        for mol in tqdm(mols):\n",
        "            for conf in enumerate_conformers(mol):\n",
        "                dataset.append(rdmol_to_data(conf))\n",
        "    return dataset"
      ],
      "metadata": {
        "id": "hF8ms8bd1lnL"
      },
      "execution_count": 7,
      "outputs": []
    },
    {
      "cell_type": "code",
      "source": [
        "def enumerate_conformers(mol):\n",
        "    num_confs = mol.GetNumConformers()\n",
        "    #反正在testQM9当中num_confs=1\n",
        "    if num_confs == 1:\n",
        "        yield mol\n",
        "        return\n",
        "    mol_templ = copy.deepcopy(mol)\n",
        "    mol_templ.RemoveAllConformers()\n",
        "    print(num_confs)\n",
        "    for conf_id in tqdm(range(num_confs), desc='Conformer'):\n",
        "        conf = mol.GetConformer(conf_id)\n",
        "        conf.SetId(0)\n",
        "        mol_conf = copy.deepcopy(mol_templ)\n",
        "        conf_id = mol_conf.AddConformer(conf)\n",
        "        yield mol_conf"
      ],
      "metadata": {
        "id": "4TyhNRYx4zDv"
      },
      "execution_count": 46,
      "outputs": []
    },
    {
      "cell_type": "code",
      "source": [
        "#@title chem\n",
        "import random\n",
        "from copy import deepcopy\n",
        "import torch\n",
        "from torch.nn import functional as F\n",
        "from torchvision.transforms.functional import to_tensor\n",
        "from torch_scatter import scatter\n",
        "from torch_geometric.data import Data\n",
        "from torch_geometric.transforms import Compose\n",
        "from torch_geometric.utils import to_networkx\n",
        "import numpy as np\n",
        "import networkx as nx\n",
        "import rdkit\n",
        "import rdkit.Chem.Draw\n",
        "from rdkit import Chem\n",
        "from rdkit.Chem import rdMolTransforms as MT\n",
        "from rdkit.Chem import rdDistGeom as DG\n",
        "from rdkit.Chem import rdDepictor as DP\n",
        "from rdkit.Chem import PeriodicTable as PT\n",
        "from rdkit.Chem.rdchem import BondType as BT\n",
        "from rdkit.Chem.rdchem import Mol, HybridizationType, GetPeriodicTable\n",
        "from rdkit.Chem.Draw import rdMolDraw2D as MD2\n",
        "from rdkit.Chem.rdmolops import RemoveHs\n",
        "from rdkit.Chem.rdMolAlign import GetBestRMS\n",
        "\n",
        "\n",
        "from typing import List, Tuple\n",
        "import copy\n",
        "\n",
        "\n",
        "BOND_TYPES = {t: i for i, t in enumerate(BT.names.values())}\n",
        "BOND_NAMES = {i: t for i, t in enumerate(BT.names.keys())}\n",
        "\n",
        "\n",
        "def set_conformer_positions(conf, pos):\n",
        "    for i in range(pos.shape[0]):\n",
        "        conf.SetAtomPosition(i, pos[i].tolist())\n",
        "    return conf\n",
        "\n",
        "\n",
        "def draw_mol_image(rdkit_mol, tensor=False):\n",
        "    rdkit_mol.UpdatePropertyCache()\n",
        "    img = rdkit.Chem.Draw.MolToImage(rdkit_mol, kekulize=False)\n",
        "    if tensor:\n",
        "        return to_tensor(img)\n",
        "    else:\n",
        "        return img\n",
        "\n",
        "\n",
        "def update_data_rdmol_positions(data):\n",
        "    for i in range(data.pos.size(0)):\n",
        "        data.rdmol.GetConformer(0).SetAtomPosition(i, data.pos[i].tolist())\n",
        "    return data\n",
        "\n",
        "\n",
        "def update_data_pos_from_rdmol(data):\n",
        "    new_pos = torch.FloatTensor(data.rdmol.GetConformer(0).GetPositions()).to(data.pos)\n",
        "    data.pos = new_pos\n",
        "    return data\n",
        "\n",
        "\n",
        "def set_rdmol_positions(rdkit_mol, pos):\n",
        "    \"\"\"\n",
        "    Args:\n",
        "        rdkit_mol:  An `rdkit.Chem.rdchem.Mol` object.\n",
        "        pos: (N_atoms, 3)\n",
        "    \"\"\"\n",
        "    mol = copy.deepcopy(rdkit_mol)\n",
        "    set_rdmol_positions_(mol, pos)\n",
        "    return mol\n",
        "\n",
        "\n",
        "def set_rdmol_positions_(mol, pos):\n",
        "    \"\"\"\n",
        "    Args:\n",
        "        rdkit_mol:  An `rdkit.Chem.rdchem.Mol` object.\n",
        "        pos: (N_atoms, 3)\n",
        "    \"\"\"\n",
        "    for i in range(pos.shape[0]):\n",
        "        mol.GetConformer(0).SetAtomPosition(i, pos[i].tolist())\n",
        "    return mol\n",
        "\n",
        "\n",
        "def get_atom_symbol(atomic_number):\n",
        "    return PT.GetElementSymbol(GetPeriodicTable(), atomic_number)\n",
        "\n",
        "\n",
        "def mol_to_smiles(mol: Mol) -> str:\n",
        "    return Chem.MolToSmiles(mol, allHsExplicit=True)\n",
        "\n",
        "\n",
        "def remove_duplicate_mols(molecules: List[Mol]) -> List[Mol]:\n",
        "    unique_tuples: List[Tuple[str, Mol]] = []\n",
        "\n",
        "    for molecule in molecules:\n",
        "        duplicate = False\n",
        "        smiles = mol_to_smiles(molecule)\n",
        "        for unique_smiles, _ in unique_tuples:\n",
        "            if smiles == unique_smiles:\n",
        "                duplicate = True\n",
        "                break\n",
        "\n",
        "        if not duplicate:\n",
        "            unique_tuples.append((smiles, molecule))\n",
        "\n",
        "    return [mol for smiles, mol in unique_tuples]\n",
        "\n",
        "\n",
        "def get_atoms_in_ring(mol):\n",
        "    atoms = set()\n",
        "    for ring in mol.GetRingInfo().AtomRings():\n",
        "        for a in ring:\n",
        "            atoms.add(a)\n",
        "    return atoms\n",
        "\n",
        "\n",
        "def get_2D_mol(mol):\n",
        "    mol = deepcopy(mol)\n",
        "    DP.Compute2DCoords(mol)\n",
        "    return mol\n",
        "\n",
        "\n",
        "def draw_mol_svg(mol,molSize=(450,150),kekulize=False):\n",
        "    mc = Chem.Mol(mol.ToBinary())\n",
        "    if kekulize:\n",
        "        try:\n",
        "            Chem.Kekulize(mc)\n",
        "        except:\n",
        "            mc = Chem.Mol(mol.ToBinary())\n",
        "    if not mc.GetNumConformers():\n",
        "        DP.Compute2DCoords(mc)\n",
        "    drawer = MD2.MolDraw2DSVG(molSize[0],molSize[1])\n",
        "    drawer.DrawMolecule(mc)\n",
        "    drawer.FinishDrawing()\n",
        "    svg = drawer.GetDrawingText()\n",
        "    # It seems that the svg renderer used doesn't quite hit the spec.\n",
        "    # Here are some fixes to make it work in the notebook, although I think\n",
        "    # the underlying issue needs to be resolved at the generation step\n",
        "    # return svg.replace('svg:','')\n",
        "    return svg\n",
        "\n",
        "\n",
        "def GetBestRMSD(probe, ref):\n",
        "    # rmsd = AlignMol(probe, ref)\n",
        "    probe = RemoveHs(probe)\n",
        "    ref = RemoveHs(ref)\n",
        "    rmsd = GetBestRMS(probe, ref)\n",
        "    return rmsd, rmsd\n"
      ],
      "metadata": {
        "cellView": "form",
        "id": "mHHf6wfzU5JM"
      },
      "execution_count": 102,
      "outputs": []
    },
    {
      "cell_type": "code",
      "source": [
        "#@title transforms\n",
        "def get_standard_transforms(order=3, asym_name=True):\n",
        "    tf = Compose([\n",
        "        AddHigherOrderEdges(order=order),\n",
        "        AddIsBond(),\n",
        "        AddEdgeLength(),\n",
        "        AddEdgeName(asymmetric=asym_name),\n",
        "    ])\n",
        "    return tf\n",
        "\n",
        "import copy\n",
        "import torch\n",
        "from torch_sparse import spspmm, coalesce\n",
        "from torch_geometric.data import Data\n",
        "from torch_geometric.utils import remove_self_loops, to_dense_adj, dense_to_sparse\n",
        "from torch_geometric.transforms import Compose\n",
        "\n",
        "\n",
        "\n",
        "def binarize(x):\n",
        "    return torch.where(x > 0, torch.ones_like(x), torch.zeros_like(x))\n",
        "\n",
        "\n",
        "def get_higher_order_adj_matrix(adj, order):\n",
        "    \"\"\"\n",
        "    Args:\n",
        "        adj:        (N, N)\n",
        "        type_mat:   (N, N)\n",
        "    \"\"\"\n",
        "    adj_mats = [torch.eye(adj.size(0)).long(), binarize(adj + torch.eye(adj.size(0)).long())]\n",
        "    for i in range(2, order+1):\n",
        "        adj_mats.append(binarize(adj_mats[i-1] @ adj_mats[1]))\n",
        "    # print(adj_mats)\n",
        "\n",
        "    order_mat = torch.zeros_like(adj)\n",
        "    for i in range(1, order+1):\n",
        "        order_mat += (adj_mats[i] - adj_mats[i-1]) * i\n",
        "\n",
        "    return order_mat\n",
        "\n",
        "\n",
        "class AddHigherOrderEdges(object):\n",
        "\n",
        "    def __init__(self, order, num_types=len(BOND_TYPES)):\n",
        "        super().__init__()\n",
        "        self.order = order\n",
        "        self.num_types = num_types\n",
        "\n",
        "    def __call__(self, data:Data):\n",
        "        N = data.num_nodes\n",
        "        adj = to_dense_adj(data.edge_index).squeeze(0)\n",
        "        adj_order = get_higher_order_adj_matrix(adj, self.order)  # (N, N)\n",
        "\n",
        "        type_mat = to_dense_adj(data.edge_index, edge_attr=data.edge_type).squeeze(0)   # (N, N)\n",
        "        type_highorder = torch.where(adj_order > 1, self.num_types+adj_order-1, torch.zeros_like(adj_order))\n",
        "        assert (type_mat * type_highorder == 0).all()\n",
        "        type_new = type_mat + type_highorder\n",
        "\n",
        "        new_edge_index, new_edge_type = dense_to_sparse(type_new)\n",
        "        _, edge_order = dense_to_sparse(adj_order)\n",
        "\n",
        "        data.bond_edge_index = data.edge_index  # Save original edges\n",
        "        data.edge_index, data.edge_type = coalesce(new_edge_index, new_edge_type.long(), N, N)\n",
        "        edge_index_1, data.edge_order = coalesce(new_edge_index, edge_order.long(), N, N)\n",
        "        assert (data.edge_index == edge_index_1).all()\n",
        "\n",
        "        return data\n",
        "\n",
        "\n",
        "class AddEdgeLength(object):\n",
        "\n",
        "    def __call__(self, data:Data):\n",
        "        pos = data.pos\n",
        "        row, col = data.edge_index\n",
        "        dist = torch.norm(pos[col] - pos[row], p=2, dim=-1).view(-1, 1)\n",
        "        data.edge_length = dist\n",
        "        return data\n",
        "\n",
        "\n",
        "class AddEdgeName(object):\n",
        "\n",
        "    def __init__(self, asymmetric=True):\n",
        "        super().__init__()\n",
        "        self.bonds = copy.deepcopy(BOND_NAMES)\n",
        "        self.bonds[len(BOND_NAMES) + 1] = 'Angle'\n",
        "        self.bonds[len(BOND_NAMES) + 2] = 'Dihedral'\n",
        "        self.asymmetric = asymmetric\n",
        "\n",
        "    def __call__(self, data:Data):\n",
        "        data.edge_name = []\n",
        "        for i in range(data.edge_index.size(1)):\n",
        "            tail = data.edge_index[0, i]\n",
        "            head = data.edge_index[1, i]\n",
        "            if self.asymmetric and tail >= head:\n",
        "                data.edge_name.append('')\n",
        "                continue\n",
        "            tail_name = get_atom_symbol(data.node_type[tail].item())\n",
        "            head_name = get_atom_symbol(data.node_type[head].item())\n",
        "            name = '%s_%s_%s_%d_%d' % (\n",
        "                self.bonds[data.edge_type[i].item()] if data.edge_type[i].item() in self.bonds else 'E'+str(data.edge_type[i].item()),\n",
        "                tail_name,\n",
        "                head_name,\n",
        "                tail,\n",
        "                head,\n",
        "            )\n",
        "            if hasattr(data, 'edge_length'):\n",
        "                name += '_%.3f' % (data.edge_length[i].item())\n",
        "            data.edge_name.append(name)\n",
        "        return data\n",
        "\n",
        "\n",
        "class AddIsBond(object):\n",
        "\n",
        "    def __init__(self):\n",
        "        super().__init__()\n",
        "\n",
        "    def __call__(self, data:Data):\n",
        "        is_bond = []\n",
        "        E = data.edge_index.size(1)\n",
        "        for i in range(E):\n",
        "            if data.edge_type[i].item() < len(BOND_TYPES):\n",
        "                is_bond.append(True)\n",
        "            else:\n",
        "                is_bond.append(False)\n",
        "        data.is_bond = is_bond\n",
        "        return data\n",
        "\n",
        "\n",
        "def get_standard_transforms(order=3, asym_name=True):\n",
        "    tf = Compose([\n",
        "        AddHigherOrderEdges(order=order),\n",
        "        AddIsBond(),\n",
        "        AddEdgeLength(),\n",
        "        AddEdgeName(asymmetric=asym_name),\n",
        "    ])\n",
        "    return tf"
      ],
      "metadata": {
        "cellView": "form",
        "id": "4XMm2FqOUOCV"
      },
      "execution_count": 104,
      "outputs": []
    },
    {
      "cell_type": "code",
      "source": [
        "from torch_geometric.data import Batch\n",
        "from torch_geometric.loader import DataLoader"
      ],
      "metadata": {
        "id": "7s1TcORqVUAK"
      },
      "execution_count": 114,
      "outputs": []
    },
    {
      "cell_type": "code",
      "source": [
        "from utils.dataset import *\n",
        "tf = get_standard_transforms(order=args.aux_edge_order)\n",
        "test_dset = MoleculeDataset(pkl, transform=tf)"
      ],
      "metadata": {
        "id": "8TQ0tRI-T-2H"
      },
      "execution_count": 107,
      "outputs": []
    },
    {
      "cell_type": "code",
      "source": [
        "train_iterator = get_data_iterator(DataLoader(test_dset, batch_size=args.train_batch_size, shuffle=True, drop_last=True))"
      ],
      "metadata": {
        "id": "QsEb-NJoVflu"
      },
      "execution_count": 115,
      "outputs": []
    },
    {
      "cell_type": "code",
      "source": [
        "preprocessed_data = next(train_iterator)"
      ],
      "metadata": {
        "id": "n436-7pcWGLr"
      },
      "execution_count": 132,
      "outputs": []
    },
    {
      "cell_type": "code",
      "source": [
        "data = []\n",
        "with open(pkl,'rb') as f:\n",
        "    mols = pickle.load(f)\n",
        "    for mol in tqdm(mols):\n",
        "        for conf in enumerate_conformers(mol):\n",
        "            data.append(rdmol_to_data(conf))"
      ],
      "metadata": {
        "colab": {
          "base_uri": "https://localhost:8080/",
          "height": 49,
          "referenced_widgets": [
            "c813426804cf446997a0a512933d82ab",
            "31bee22195624fed8a27fe8a4655caf9",
            "d56c97706a7e4a1a92b37b0908be5750",
            "6518553edd3f4a0a891e25e569d2e808",
            "3648115a81db4b7bb58587218431ab2b",
            "671d099219b24736bb79bb8311abbd3e",
            "d9d3ca5c97504cf8bfbc5d8c26b92c6a",
            "24df2eaa10574c44a27224fcfcd4b0d5",
            "70c4ff63a5c944e99a58d6c88c670f17",
            "b0f966332e00476aa52aa1fcf01093ad",
            "b4bac0d3af014d1388aaf36c4043386d"
          ]
        },
        "id": "HbeR3rUN3HWI",
        "outputId": "2f3f3a53-d4e7-4044-f7e4-44644fb7a133"
      },
      "execution_count": 52,
      "outputs": [
        {
          "output_type": "display_data",
          "data": {
            "application/vnd.jupyter.widget-view+json": {
              "model_id": "c813426804cf446997a0a512933d82ab",
              "version_minor": 0,
              "version_major": 2
            },
            "text/plain": [
              "  0%|          | 0/17813 [00:00<?, ?it/s]"
            ]
          },
          "metadata": {}
        }
      ]
    },
    {
      "cell_type": "code",
      "source": [
        "conf = enumerate_conformers(data[2])"
      ],
      "metadata": {
        "id": "Bce4GuYC4Zta"
      },
      "execution_count": 42,
      "outputs": []
    },
    {
      "cell_type": "code",
      "source": [
        "rdmol_to_data(next(conf))"
      ],
      "metadata": {
        "colab": {
          "base_uri": "https://localhost:8080/"
        },
        "id": "chEChZ-W4eR8",
        "outputId": "a10d804c-4447-487b-c1bd-68b354a7c67e"
      },
      "execution_count": 43,
      "outputs": [
        {
          "output_type": "stream",
          "name": "stdout",
          "text": [
            "1\n"
          ]
        },
        {
          "output_type": "execute_result",
          "data": {
            "text/plain": [
              "Data(edge_index=[2, 44], pos=[23, 3], node_type=[23], edge_type=[44], rdmol=<rdkit.Chem.rdchem.Mol object at 0x7f646dc8c5d0>, smiles='[H]OC([H])([H])[C@]([H])(OC([H])([H])C([H])([H])[H])[C@]([H])(O[H])C([H])([H])[H]', nx=Graph with 23 nodes and 22 edges)"
            ]
          },
          "metadata": {},
          "execution_count": 43
        }
      ]
    },
    {
      "cell_type": "code",
      "source": [
        "\n",
        "from rdkit.Chem.rdchem import BondType as BT\n",
        "BOND_TYPES = {t: i for i, t in enumerate(BT.names.values())}\n",
        "BOND_NAMES = {i: t for i, t in enumerate(BT.names.keys())}"
      ],
      "metadata": {
        "id": "kqBAay_vuzfc"
      },
      "execution_count": 8,
      "outputs": []
    },
    {
      "cell_type": "code",
      "source": [
        "test_data = process_pickle(pkl)"
      ],
      "metadata": {
        "colab": {
          "base_uri": "https://localhost:8080/",
          "height": 49,
          "referenced_widgets": [
            "7e4e0fcb5fa243f381f6eafe686589a8",
            "997067d39f9741d28bd41ed246276aef",
            "934b58ef2155479f8a6d26b1538a8c4a",
            "bbb37afe107548f6ab900b3ba2a2c621",
            "5ec17aed332f4e4aaa97e9f9145110a1",
            "188f95e9357a4680a9b09111c73f44de",
            "75b7da8645d943bf9e3ad325f42a53b7",
            "4fae7d44dd324b28b02995ecdd02db5f",
            "66195ed69ebc4ab1bd5bf6a595a2d207",
            "03d18569ffe647d3a40c17cd2939df4b",
            "563d682cf69b4fb1abc49dd2a6ed629a"
          ]
        },
        "id": "h1iTtS87uInM",
        "outputId": "42372a56-24da-4ea8-db7e-f1b2e29a9d8a"
      },
      "execution_count": 15,
      "outputs": [
        {
          "output_type": "display_data",
          "data": {
            "application/vnd.jupyter.widget-view+json": {
              "model_id": "7e4e0fcb5fa243f381f6eafe686589a8",
              "version_minor": 0,
              "version_major": 2
            },
            "text/plain": [
              "  0%|          | 0/17813 [00:00<?, ?it/s]"
            ]
          },
          "metadata": {}
        }
      ]
    },
    {
      "cell_type": "code",
      "source": [
        "test_data[1]"
      ],
      "metadata": {
        "colab": {
          "base_uri": "https://localhost:8080/"
        },
        "id": "dtgZQNQ8yzvd",
        "outputId": "460bc7a1-26eb-438d-9715-64b9737260b4"
      },
      "execution_count": 17,
      "outputs": [
        {
          "output_type": "execute_result",
          "data": {
            "text/plain": [
              "Data(edge_index=[2, 44], pos=[23, 3], node_type=[23], edge_type=[44], rdmol=<rdkit.Chem.rdchem.Mol object at 0x7f649124dee0>, smiles='[H]OC([H])([H])[C@]([H])(OC([H])([H])C([H])([H])[H])[C@]([H])(O[H])C([H])([H])[H]', nx=Graph with 23 nodes and 22 edges)"
            ]
          },
          "metadata": {},
          "execution_count": 17
        }
      ]
    },
    {
      "cell_type": "code",
      "source": [
        "import networkx as nx\n",
        "import matplotlib.pyplot as plt\n",
        "nx.draw(test_data[1].nx)\n",
        "plt.show()"
      ],
      "metadata": {
        "colab": {
          "base_uri": "https://localhost:8080/",
          "height": 319
        },
        "id": "eK7IxfAnzZOY",
        "outputId": "a82b1263-d953-4f62-d534-93df50ed0037"
      },
      "execution_count": 21,
      "outputs": [
        {
          "output_type": "display_data",
          "data": {
            "image/png": "[encoded data removed]",
            "text/plain": [
              "<Figure size 432x288 with 1 Axes>"
            ]
          },
          "metadata": {}
        }
      ]
    },
    {
      "cell_type": "code",
      "source": [
        "prepocessed_data.edge_length"
      ],
      "metadata": {
        "colab": {
          "base_uri": "https://localhost:8080/"
        },
        "id": "ZwzZCLEQSZKm",
        "outputId": "10ef31f0-099b-4d81-fcb2-4fbd1fe25465"
      },
      "execution_count": 129,
      "outputs": [
        {
          "output_type": "execute_result",
          "data": {
            "text/plain": [
              "tensor([[0.9641],\n",
              "        [1.4032],\n",
              "        [2.0659],\n",
              "        ...,\n",
              "        [2.0947],\n",
              "        [3.2088],\n",
              "        [1.7845]])"
            ]
          },
          "metadata": {},
          "execution_count": 129
        }
      ]
    },
    {
      "cell_type": "code",
      "source": [
        "import os\n",
        "os.chdir('CGCF-ConfGen')"
      ],
      "metadata": {
        "id": "2Ya9r-gYIcrn"
      },
      "execution_count": 62,
      "outputs": []
    },
    {
      "cell_type": "code",
      "source": [
        "from models.edgecnf import *\n",
        "from models.cnf_edge import NONLINEARITIES, LAYERS, SOLVERS"
      ],
      "metadata": {
        "id": "SNqb0-PeI_W1"
      },
      "execution_count": 63,
      "outputs": []
    },
    {
      "cell_type": "code",
      "source": [
        "import os\n",
        "import argparse\n",
        "import random\n",
        "def seed_all(seed):\n",
        "    torch.manual_seed(seed)\n",
        "    np.random.seed(seed)\n",
        "    random.seed(seed)\n",
        "#@title args\n",
        "# Arguments\n",
        "parser = argparse.ArgumentParser()\n",
        "# BEGIN\n",
        "# Model arguments\n",
        "parser.add_argument('--activation', type=str, default='softplus')\n",
        "parser.add_argument('--hidden_dim', type=int, default=64)\n",
        "parser.add_argument(\"--num_blocks\", type=int, default=1,\n",
        "                    help='Number of stacked CNFs.')\n",
        "parser.add_argument(\"--layer_type\", type=str, default=\"concatsquash\", choices=LAYERS)\n",
        "parser.add_argument('--time_length', type=float, default=0.5)\n",
        "parser.add_argument('--train_T', type=eval, default=True, choices=[True, False])\n",
        "parser.add_argument('--use_adjoint', type=eval, default=True, choices=[True, False])\n",
        "parser.add_argument('--solver', type=str, default='dopri5', choices=SOLVERS)\n",
        "parser.add_argument('--atol', type=float, default=1e-5)\n",
        "parser.add_argument('--rtol', type=float, default=1e-5)\n",
        "parser.add_argument('--batch_norm', type=eval, default=True, choices=[True, False])\n",
        "parser.add_argument('--sync_bn', type=eval, default=False, choices=[True, False])\n",
        "parser.add_argument('--bn_lag', type=float, default=0)\n",
        "parser.add_argument('--spectral_norm', type=eval, default=True, choices=[True, False])\n",
        "parser.add_argument('--train_noise_std', type=float, default=0.1)\n",
        "\n",
        "# Datasets and loaders\n",
        "parser.add_argument('--aux_edge_order', type=int, default=3)\n",
        "parser.add_argument('--train_dataset', type=str, default='./data/qm9/train.pkl')\n",
        "parser.add_argument('--val_dataset', type=str, default='./data/qm9/val.pkl')\n",
        "parser.add_argument('--train_batch_size', type=int, default=128)\n",
        "parser.add_argument('--val_batch_size', type=int, default=256)\n",
        "parser.add_argument('--num_workers', type=int, default=8)\n",
        "parser.add_argument('--max_val_batch', type=int, default=5)\n",
        "\n",
        "# Optimizer and scheduler\n",
        "parser.add_argument('--lr', type=float, default=1e-3)\n",
        "parser.add_argument('--weight_decay', type=float, default=0)\n",
        "parser.add_argument('--sched_factor', type=float, default=0.5)\n",
        "parser.add_argument('--sched_patience', type=int, default=3,\n",
        "                    help='Patience steps = sched_patience * val_freq')\n",
        "parser.add_argument('--sched_min_lr', type=int, default=1e-5)\n",
        "parser.add_argument('--beta1', type=float, default=0.95)\n",
        "parser.add_argument('--beta2', type=float, default=0.999)\n",
        "\n",
        "# Training\n",
        "parser.add_argument('--seed', type=int, default=2020)\n",
        "parser.add_argument('--logging', type=eval, default=True, choices=[True, False])\n",
        "parser.add_argument('--device', type=str, default='cuda')\n",
        "parser.add_argument('--max_iters', type=int, default=50*1000, \n",
        "                    help='Max iterations for MLE pre-training of CNF')\n",
        "parser.add_argument('--val_freq', type=int, default=300)\n",
        "parser.add_argument('--inspect_freq', type=int, default=50)\n",
        "parser.add_argument('--tag', type=str, default='')\n",
        "parser.add_argument('--resume', type=str, default=None)\n",
        "parser.add_argument('--log_root', type=str, default='./logs')\n",
        "args = parser.parse_args([])\n",
        "seed_all(args.seed)"
      ],
      "metadata": {
        "cellView": "form",
        "id": "CmTG8Ly0F-cN"
      },
      "execution_count": 66,
      "outputs": []
    },
    {
      "cell_type": "code",
      "source": [
        "args.batch_norm"
      ],
      "metadata": {
        "colab": {
          "base_uri": "https://localhost:8080/"
        },
        "id": "LSGIDFi9Kwc0",
        "outputId": "5ad67906-8785-4cf4-88f7-84a9d2051773"
      },
      "execution_count": 68,
      "outputs": [
        {
          "output_type": "execute_result",
          "data": {
            "text/plain": [
              "True"
            ]
          },
          "metadata": {},
          "execution_count": 68
        }
      ]
    },
    {
      "cell_type": "code",
      "source": [
        "model = "
      ],
      "metadata": {
        "id": "lVaLZUPpKt92"
      },
      "execution_count": null,
      "outputs": []
    },
    {
      "cell_type": "code",
      "source": [
        "def train(it):\n",
        "    model.train()\n",
        "    optimizer.zero_grad()\n",
        "    if args.spectral_norm:\n",
        "        spectral_norm_power_iteration(model, n_power_iterations=1)\n",
        "    batch = next(train_iterator).to(args.device)\n",
        "    noise = torch.randn_like(batch.edge_length) * args.train_noise_std\n",
        "    loss = model.get_loss(batch, batch.edge_length + noise)\n",
        "    nfe_forward = count_nfe(model)\n",
        "\n",
        "    loss.backward()\n",
        "    optimizer.step()\n",
        "\n",
        "    nfe_total = count_nfe(model)\n",
        "    nfe_backward = nfe_total - nfe_forward\n",
        "    \n",
        "    logger.info('[Train] Iter %04d | Loss %.6f | NFE_Forward %d | NFE_Backward %d ' % (it, loss.item(), nfe_forward, nfe_backward))\n",
        "    writer.add_scalar('train/loss', loss, it)\n",
        "    writer.add_scalar('train/lr', optimizer.param_groups[0]['lr'], it)\n",
        "    writer.add_scalar('train/nfe_forward', nfe_forward, it)\n",
        "    writer.add_scalar('train/nfe_backward', nfe_backward, it)\n",
        "    writer.flush()"
      ],
      "metadata": {
        "id": "d_xuDhLL88hJ"
      },
      "execution_count": null,
      "outputs": []
    },
    {
      "cell_type": "code",
      "source": [
        "node_emb = torch.nn.Embedding(100, args.hidden_dim)      #args.hidden_dim = 64\n",
        "edge_emb = torch.nn.Embedding(100, args.hidden_dim)"
      ],
      "metadata": {
        "id": "jZwahFKQIEuK"
      },
      "execution_count": 130,
      "outputs": []
    },
    {
      "cell_type": "code",
      "source": [
        "node_attr = node_emb(preprocessed_data.node_type)"
      ],
      "metadata": {
        "id": "dPrtUJwWPEHz"
      },
      "execution_count": 133,
      "outputs": []
    },
    {
      "cell_type": "code",
      "source": [
        "node_attr.shape"
      ],
      "metadata": {
        "colab": {
          "base_uri": "https://localhost:8080/"
        },
        "id": "8dnDuDmKYO6b",
        "outputId": "ebf114e1-e5d6-477e-fe33-d6e6c7ee2e63"
      },
      "execution_count": 134,
      "outputs": [
        {
          "output_type": "execute_result",
          "data": {
            "text/plain": [
              "torch.Size([2806, 64])"
            ]
          },
          "metadata": {},
          "execution_count": 134
        }
      ]
    },
    {
      "cell_type": "code",
      "source": [
        "node_attr.shape"
      ],
      "metadata": {
        "colab": {
          "base_uri": "https://localhost:8080/"
        },
        "id": "-uERNGXSPECS",
        "outputId": "99489dbf-282d-46d5-d8e9-6019210a831d"
      },
      "execution_count": 77,
      "outputs": [
        {
          "output_type": "execute_result",
          "data": {
            "text/plain": [
              "torch.Size([23, 64])"
            ]
          },
          "metadata": {},
          "execution_count": 77
        }
      ]
    },
    {
      "cell_type": "code",
      "source": [
        "#@title ODE_mlp\n",
        "import copy\n",
        "import torch\n",
        "import torch.nn as nn\n",
        "from torch.nn import Parameter\n",
        "\n",
        "\n",
        "class IgnoreLinear(nn.Module):\n",
        "    def __init__(self, dim_in, dim_out, dim_c):\n",
        "        super(IgnoreLinear, self).__init__()\n",
        "        self._layer = nn.Linear(dim_in, dim_out)\n",
        "\n",
        "    def forward(self, context, x):\n",
        "        return self._layer(x)\n",
        "\n",
        "\n",
        "class ConcatLinear(nn.Module):\n",
        "    def __init__(self, dim_in, dim_out, dim_c):\n",
        "        super(ConcatLinear, self).__init__()\n",
        "        self._layer = nn.Linear(dim_in + 1 + dim_c, dim_out)\n",
        "\n",
        "    def forward(self, context, x, c):\n",
        "        if x.dim() == 3:\n",
        "            context = context.unsqueeze(1).expand(-1, x.size(1), -1)\n",
        "        x_context = torch.cat((x, context), dim=2)\n",
        "        return self._layer(x_context)\n",
        "\n",
        "\n",
        "class ConcatLinear_v2(nn.Module):\n",
        "    def __init__(self, dim_in, dim_out, dim_c):\n",
        "        super(ConcatLinear_v2, self).__init__()\n",
        "        self._layer = nn.Linear(dim_in, dim_out)\n",
        "        self._hyper_bias = nn.Linear(1 + dim_c, dim_out, bias=False)\n",
        "\n",
        "    def forward(self, context, x):\n",
        "        bias = self._hyper_bias(context)\n",
        "        if x.dim() == 3:\n",
        "            bias = bias.unsqueeze(1)\n",
        "        return self._layer(x) + bias\n",
        "\n",
        "\n",
        "class SquashLinear(nn.Module):\n",
        "    def __init__(self, dim_in, dim_out, dim_c):\n",
        "        super(SquashLinear, self).__init__()\n",
        "        self._layer = nn.Linear(dim_in, dim_out)\n",
        "        self._hyper = nn.Linear(1 + dim_c, dim_out)\n",
        "\n",
        "    def forward(self, context, x):\n",
        "        gate = torch.sigmoid(self._hyper(context))\n",
        "        if x.dim() == 3:\n",
        "            gate = gate.unsqueeze(1)\n",
        "        return self._layer(x) * gate\n",
        "\n",
        "\n",
        "class ScaleLinear(nn.Module):\n",
        "    def __init__(self, dim_in, dim_out, dim_c):\n",
        "        super(ScaleLinear, self).__init__()\n",
        "        self._layer = nn.Linear(dim_in, dim_out)\n",
        "        self._hyper = nn.Linear(1 + dim_c, dim_out)\n",
        "\n",
        "    def forward(self, context, x):\n",
        "        gate = self._hyper(context)\n",
        "        if x.dim() == 3:\n",
        "            gate = gate.unsqueeze(1)\n",
        "        return self._layer(x) * gate\n",
        "\n",
        "\n",
        "class ConcatSquashLinear(nn.Module):\n",
        "    def __init__(self, dim_in, dim_out, dim_c):\n",
        "        super(ConcatSquashLinear, self).__init__()\n",
        "        self._layer = nn.Linear(dim_in, dim_out)\n",
        "        self._hyper_bias = nn.Linear(1 + dim_c, dim_out, bias=False)\n",
        "        self._hyper_gate = nn.Linear(1 + dim_c, dim_out)\n",
        "\n",
        "    def forward(self, context, x):\n",
        "        gate = torch.sigmoid(self._hyper_gate(context))\n",
        "        bias = self._hyper_bias(context)\n",
        "        if x.dim() == 3:\n",
        "            gate = gate.unsqueeze(1)\n",
        "            bias = bias.unsqueeze(1)\n",
        "        ret = self._layer(x) * gate + bias\n",
        "        return ret\n",
        "\n",
        "\n",
        "class ConcatScaleLinear(nn.Module):\n",
        "    def __init__(self, dim_in, dim_out, dim_c):\n",
        "        super(ConcatScaleLinear, self).__init__()\n",
        "        self._layer = nn.Linear(dim_in, dim_out)\n",
        "        self._hyper_bias = nn.Linear(1 + dim_c, dim_out, bias=False)\n",
        "        self._hyper_gate = nn.Linear(1 + dim_c, dim_out)\n",
        "\n",
        "    def forward(self, context, x):\n",
        "        gate = self._hyper_gate(context)\n",
        "        bias = self._hyper_bias(context)\n",
        "        if x.dim() == 3:\n",
        "            gate = gate.unsqueeze(1)\n",
        "            bias = bias.unsqueeze(1)\n",
        "        ret = self._layer(x) * gate + bias\n",
        "        return ret\n",
        "\n",
        "\n",
        "class Swish(nn.Module):\n",
        "    def __init__(self):\n",
        "        super(Swish, self).__init__()\n",
        "        self.beta = nn.Parameter(torch.tensor(1.0))\n",
        "\n",
        "    def forward(self, x):\n",
        "        return x * torch.sigmoid(self.beta * x)\n",
        "\n",
        "\n",
        "class Lambda(nn.Module):\n",
        "    def __init__(self, f):\n",
        "        super(Lambda, self).__init__()\n",
        "        self.f = f\n",
        "\n",
        "    def forward(self, x):\n",
        "        return self.f(x)\n",
        "\n",
        "\n",
        "NONLINEARITIES = {\n",
        "    \"tanh\": nn.Tanh(),\n",
        "    \"relu\": nn.ReLU(),\n",
        "    \"softplus\": nn.Softplus(),\n",
        "    \"elu\": nn.ELU(),\n",
        "    \"swish\": Swish(),\n",
        "    \"square\": Lambda(lambda x: x ** 2),\n",
        "    \"identity\": Lambda(lambda x: x),\n",
        "}\n",
        "\n",
        "\n",
        "class ODEmlp(nn.Module):\n",
        "    \"\"\"\n",
        "    Helper class to make neural nets for use in continuous normalizing flows\n",
        "    \"\"\"\n",
        "\n",
        "    def __init__(self, hidden_dims, input_shape, context_dim=0, layer_type=\"concatsquash\", nonlinearity=\"softplus\"):\n",
        "        super().__init__()\n",
        "        base_layer = {\n",
        "            \"ignore\": IgnoreLinear,\n",
        "            \"squash\": SquashLinear,\n",
        "            \"scale\": ScaleLinear,\n",
        "            \"concat\": ConcatLinear,\n",
        "            \"concat_v2\": ConcatLinear_v2,\n",
        "            \"concatsquash\": ConcatSquashLinear,\n",
        "            \"concatscale\": ConcatScaleLinear,\n",
        "        }[layer_type]\n",
        "\n",
        "        # build models and add them\n",
        "        layers = []\n",
        "        activation_fns = []\n",
        "        hidden_shape = input_shape\n",
        "\n",
        "        for dim_out in (hidden_dims + (input_shape[0],)):\n",
        "            layer_kwargs = {}\n",
        "            layer = base_layer(hidden_shape[0], dim_out, context_dim, **layer_kwargs)\n",
        "            layers.append(layer)\n",
        "            activation_fns.append(NONLINEARITIES[nonlinearity])\n",
        "\n",
        "            hidden_shape = list(copy.copy(hidden_shape))\n",
        "            hidden_shape[0] = dim_out\n",
        "\n",
        "        self.layers = nn.ModuleList(layers)\n",
        "        self.activation_fns = nn.ModuleList(activation_fns[:-1])\n",
        "\n",
        "    def forward(self, t, y, context=None):\n",
        "        dx = y\n",
        "        for l, layer in enumerate(self.layers):\n",
        "            if context is not None:\n",
        "                tc = torch.cat([t, context.view(y.size(0), -1)], dim=1)\n",
        "            else:\n",
        "                tc = t\n",
        "            dx = layer(tc, dx)\n",
        "            # if not last layer, use nonlinearity\n",
        "            if l < len(self.layers) - 1:\n",
        "                dx = self.activation_fns[l](dx)\n",
        "        return dx\n"
      ],
      "metadata": {
        "cellView": "form",
        "id": "hzyCavV7RJ_O"
      },
      "execution_count": 90,
      "outputs": []
    },
    {
      "cell_type": "code",
      "source": [
        "#@title ODEgnn_utlis\n",
        "class ConcatSquashLinear(nn.Module):\n",
        "    def __init__(self, dim_in, dim_out, dim_c):\n",
        "        super(ConcatSquashLinear, self).__init__()\n",
        "        self._layer = nn.Linear(dim_in, dim_out)\n",
        "        self._hyper_bias = nn.Linear(1 + dim_c, dim_out, bias=False)\n",
        "        self._hyper_gate = nn.Linear(1 + dim_c, dim_out)\n",
        "\n",
        "    def forward(self, context, x):\n",
        "        gate = torch.sigmoid(self._hyper_gate(context))\n",
        "        bias = self._hyper_bias(context)\n",
        "        if x.dim() == 3:\n",
        "            gate = gate.unsqueeze(1)\n",
        "            bias = bias.unsqueeze(1)\n",
        "        ret = self._layer(x) * gate + bias\n",
        "        return ret\n",
        "class GINEConv(MessagePassing):\n",
        "\n",
        "    def __init__(self, nn: Callable, eps: float = 0., train_eps: bool = False,\n",
        "                 **kwargs):\n",
        "        super(GINEConv, self).__init__(aggr='add', **kwargs)\n",
        "        self.nn = nn\n",
        "        self.initial_eps = eps\n",
        "        if train_eps:\n",
        "            self.eps = torch.nn.Parameter(torch.Tensor([eps]))\n",
        "        else:\n",
        "            self.register_buffer('eps', torch.Tensor([eps]))\n",
        "\n",
        "    def forward(self, t, x: Union[Tensor, OptPairTensor], edge_index: Adj,\n",
        "                edge_attr: OptTensor = None, size: Size = None) -> Tensor:\n",
        "        \"\"\"\"\"\"\n",
        "        if isinstance(x, Tensor):\n",
        "            x: OptPairTensor = (x, x)\n",
        "\n",
        "        # Node and edge feature dimensionalites need to match.\n",
        "        if isinstance(edge_index, Tensor):\n",
        "            assert edge_attr is not None\n",
        "            assert x[0].size(-1) == edge_attr.size(-1)\n",
        "        elif isinstance(edge_index, SparseTensor):\n",
        "            assert x[0].size(-1) == edge_index.size(-1)\n",
        "\n",
        "        # propagate_type: (x: OptPairTensor, edge_attr: OptTensor)\n",
        "        out = self.propagate(edge_index, x=x, edge_attr=edge_attr, size=size)\n",
        "\n",
        "        x_r = x[1]\n",
        "        if x_r is not None:\n",
        "            out += (1 + self.eps) * x_r\n",
        "\n",
        "        return self.nn(t, out)\n",
        "\n",
        "    def message(self, x_j: Tensor, edge_attr: Tensor) -> Tensor:\n",
        "        return F.softplus(x_j + edge_attr)"
      ],
      "metadata": {
        "cellView": "form",
        "id": "Z7eP7-q3QZv8"
      },
      "execution_count": 86,
      "outputs": []
    },
    {
      "cell_type": "code",
      "source": [
        "#@title ODEgnn\n",
        "import torch.nn.functional as F\n",
        "from torch import Tensor\n",
        "from typing import Callable, Union\n",
        "from torch_geometric.typing import OptPairTensor, Adj, OptTensor, Size\n",
        "from torch_sparse import SparseTensor, matmul\n",
        "from torch_geometric.nn.conv import MessagePassing\n",
        "class ODEgnn(torch.nn.Module):\n",
        "\n",
        "    def __init__(self, hidden_dim):\n",
        "        super().__init__()\n",
        "        self.act = F.softplus\n",
        "        self.d_fc1 = ConcatSquashLinear(1, hidden_dim, dim_c=0)\n",
        "        self.d_fc2 = ConcatSquashLinear(hidden_dim, hidden_dim, dim_c=0)\n",
        "\n",
        "        self.conv1 = GINEConv(ODEmlp((hidden_dim, ), (hidden_dim, )))\n",
        "        self.conv2 = GINEConv(ODEmlp((hidden_dim, ), (hidden_dim, )))\n",
        "        self.conv3 = GINEConv(ODEmlp((hidden_dim, ), (hidden_dim, )))\n",
        "\n",
        "        self.out_fc1 = ConcatSquashLinear(2 * hidden_dim, hidden_dim, dim_c=0)\n",
        "        # self.out_fc1 = ConcatSquashLinear(hidden_dim, hidden_dim, dim_c=0)\n",
        "        self.out_fc2 = ConcatSquashLinear(hidden_dim, hidden_dim // 2, dim_c=0)\n",
        "        self.out_fc3 = ConcatSquashLinear(hidden_dim // 2, 1, dim_c=0)\n",
        "\n",
        "        self.edge_index = None\n",
        "\n",
        "\n",
        "    def forward(self, t, x, node_attr, edge_attr):\n",
        "        assert self.edge_index is not None, '`edge_index` is not prepared.'\n",
        "        edge_index = self.edge_index\n",
        "\n",
        "        d_emb = self.d_fc2(t, self.act(self.d_fc1(t, x)))   # Embedings for edge lengths `x`\n",
        "        edge_attr = d_emb * edge_attr\n",
        "\n",
        "        t_node = torch.ones_like(node_attr)[0, :1] * t.mean()\n",
        "        h = node_attr\n",
        "        h = self.act(self.conv1(t_node, h, edge_index, edge_attr))\n",
        "        h = self.act(self.conv2(t_node, h, edge_index, edge_attr))\n",
        "        h = self.conv3(t_node, h, edge_index, edge_attr)\n",
        "\n",
        "        h_row, h_col = h[edge_index[0]], h[edge_index[1]]\n",
        "        pair_feat = torch.cat([h_row*h_col, edge_attr], dim=-1)\n",
        "        # pair_feat = h_row*h_col\n",
        "        pair_feat = self.act(self.out_fc1(t, pair_feat))\n",
        "        pair_feat = self.act(self.out_fc2(t, pair_feat))\n",
        "        out = self.out_fc3(t, pair_feat)\n",
        "\n",
        "        return out"
      ],
      "metadata": {
        "cellView": "form",
        "id": "aI_Nw753P4eJ"
      },
      "execution_count": 88,
      "outputs": []
    },
    {
      "cell_type": "code",
      "source": [
        "diffeq=ODEgnn(hidden_dim = args.hidden_dim)"
      ],
      "metadata": {
        "id": "ErkdIg1-P9cO"
      },
      "execution_count": 91,
      "outputs": []
    },
    {
      "cell_type": "code",
      "source": [
        "noise = torch.randn_like(preprocessed_data.edge_length) * args.train_noise_std\n",
        "d = preprocessed_data.edge_length + noise"
      ],
      "metadata": {
        "id": "c9hLJi7wakaJ"
      },
      "execution_count": 136,
      "outputs": []
    },
    {
      "cell_type": "code",
      "source": [
        "diffeq(t,x,node_emb(preprocessed_data),edge_emb(preprocessed_data))"
      ],
      "metadata": {
        "id": "fFq1VeADXLwb"
      },
      "execution_count": null,
      "outputs": []
    },
    {
      "cell_type": "code",
      "source": [
        "E = d.size(0)\n",
        "logpx = torch.zeros(E,1).to(d)\n",
        "_logpx = logpx\n",
        "x = d\n",
        "node_attr = node_emb(preprocessed_data.node_type)\n",
        "edge_attr = edge_emb(preprocessed_data.edge_type)\n",
        "states = (x, _logpx, node_attr, edge_attr)"
      ],
      "metadata": {
        "id": "KMx2esOebrcr"
      },
      "execution_count": 149,
      "outputs": []
    },
    {
      "cell_type": "code",
      "source": [
        "y = states[0]\n",
        "t = torch.ones(y.size(0), 1).to(y) * t.clone().detach().requires_grad_(True).type_as(y)"
      ],
      "metadata": {
        "colab": {
          "base_uri": "https://localhost:8080/",
          "height": 180
        },
        "id": "x2JQr1-Qdknz",
        "outputId": "3c2c4f00-c9a9-4e56-e73e-3dbdf1fe22c7"
      },
      "execution_count": 150,
      "outputs": [
        {
          "output_type": "error",
          "ename": "NameError",
          "evalue": "ignored",
          "traceback": [
            "\u001b[0;31m---------------------------------------------------------------------------\u001b[0m",
            "\u001b[0;31mNameError\u001b[0m                                 Traceback (most recent call last)",
            "\u001b[0;32m<ipython-input-150-cb12ee5862ed>\u001b[0m in \u001b[0;36m<module>\u001b[0;34m()\u001b[0m\n\u001b[1;32m      1\u001b[0m \u001b[0my\u001b[0m \u001b[0;34m=\u001b[0m \u001b[0mstates\u001b[0m\u001b[0;34m[\u001b[0m\u001b[0;36m0\u001b[0m\u001b[0;34m]\u001b[0m\u001b[0;34m\u001b[0m\u001b[0;34m\u001b[0m\u001b[0m\n\u001b[0;32m----> 2\u001b[0;31m \u001b[0mt\u001b[0m \u001b[0;34m=\u001b[0m \u001b[0mtorch\u001b[0m\u001b[0;34m.\u001b[0m\u001b[0mones\u001b[0m\u001b[0;34m(\u001b[0m\u001b[0my\u001b[0m\u001b[0;34m.\u001b[0m\u001b[0msize\u001b[0m\u001b[0;34m(\u001b[0m\u001b[0;36m0\u001b[0m\u001b[0;34m)\u001b[0m\u001b[0;34m,\u001b[0m \u001b[0;36m1\u001b[0m\u001b[0;34m)\u001b[0m\u001b[0;34m.\u001b[0m\u001b[0mto\u001b[0m\u001b[0;34m(\u001b[0m\u001b[0my\u001b[0m\u001b[0;34m)\u001b[0m \u001b[0;34m*\u001b[0m \u001b[0mt\u001b[0m\u001b[0;34m.\u001b[0m\u001b[0mclone\u001b[0m\u001b[0;34m(\u001b[0m\u001b[0;34m)\u001b[0m\u001b[0;34m.\u001b[0m\u001b[0mdetach\u001b[0m\u001b[0;34m(\u001b[0m\u001b[0;34m)\u001b[0m\u001b[0;34m.\u001b[0m\u001b[0mrequires_grad_\u001b[0m\u001b[0;34m(\u001b[0m\u001b[0;32mTrue\u001b[0m\u001b[0;34m)\u001b[0m\u001b[0;34m.\u001b[0m\u001b[0mtype_as\u001b[0m\u001b[0;34m(\u001b[0m\u001b[0my\u001b[0m\u001b[0;34m)\u001b[0m\u001b[0;34m\u001b[0m\u001b[0;34m\u001b[0m\u001b[0m\n\u001b[0m",
            "\u001b[0;31mNameError\u001b[0m: name 't' is not defined"
          ]
        }
      ]
    },
    {
      "cell_type": "code",
      "source": [
        "sqrt_end_time=torch.tensor(1)\n",
        "integration_times = torch.stack(\n",
        "                    [torch.tensor(0.0).to(x), sqrt_end_time * sqrt_end_time]\n",
        "                ).to(x)"
      ],
      "metadata": {
        "id": "Dej5J6Sud1_q"
      },
      "execution_count": 154,
      "outputs": []
    },
    {
      "cell_type": "code",
      "source": [
        "integration_times"
      ],
      "metadata": {
        "colab": {
          "base_uri": "https://localhost:8080/"
        },
        "id": "S1v8R15Wfz2U",
        "outputId": "891acfb2-f3b4-4df7-ef76-ab17e182430f"
      },
      "execution_count": 157,
      "outputs": [
        {
          "output_type": "execute_result",
          "data": {
            "text/plain": [
              "tensor([0., 1.])"
            ]
          },
          "metadata": {},
          "execution_count": 157
        }
      ]
    },
    {
      "cell_type": "code",
      "source": [
        "diffeq.edge_index = preprocessed_data.edge_index"
      ],
      "metadata": {
        "id": "8hsfsM3LhIxZ"
      },
      "execution_count": 159,
      "outputs": []
    },
    {
      "cell_type": "code",
      "source": [
        "diffeq(integration_times[1], x, node_attr, edge_attr)\n"
      ],
      "metadata": {
        "colab": {
          "base_uri": "https://localhost:8080/",
          "height": 306
        },
        "id": "W9MUS_CYg30i",
        "outputId": "28c7ef80-0648-4e02-d111-b4ca0c4c0f95"
      },
      "execution_count": 162,
      "outputs": [
        {
          "output_type": "error",
          "ename": "RuntimeError",
          "evalue": "ignored",
          "traceback": [
            "\u001b[0;31m---------------------------------------------------------------------------\u001b[0m",
            "\u001b[0;31mRuntimeError\u001b[0m                              Traceback (most recent call last)",
            "\u001b[0;32m<ipython-input-162-ee61b8c127eb>\u001b[0m in \u001b[0;36m<module>\u001b[0;34m()\u001b[0m\n\u001b[0;32m----> 1\u001b[0;31m \u001b[0mdiffeq\u001b[0m\u001b[0;34m(\u001b[0m\u001b[0mintegration_times\u001b[0m\u001b[0;34m[\u001b[0m\u001b[0;36m1\u001b[0m\u001b[0;34m]\u001b[0m\u001b[0;34m,\u001b[0m \u001b[0mx\u001b[0m\u001b[0;34m,\u001b[0m \u001b[0mnode_attr\u001b[0m\u001b[0;34m,\u001b[0m \u001b[0medge_attr\u001b[0m\u001b[0;34m)\u001b[0m\u001b[0;34m\u001b[0m\u001b[0;34m\u001b[0m\u001b[0m\n\u001b[0m",
            "\u001b[0;32m/usr/local/lib/python3.7/dist-packages/torch/nn/modules/module.py\u001b[0m in \u001b[0;36m_call_impl\u001b[0;34m(self, *input, **kwargs)\u001b[0m\n\u001b[1;32m   1049\u001b[0m         if not (self._backward_hooks or self._forward_hooks or self._forward_pre_hooks or _global_backward_hooks\n\u001b[1;32m   1050\u001b[0m                 or _global_forward_hooks or _global_forward_pre_hooks):\n\u001b[0;32m-> 1051\u001b[0;31m             \u001b[0;32mreturn\u001b[0m \u001b[0mforward_call\u001b[0m\u001b[0;34m(\u001b[0m\u001b[0;34m*\u001b[0m\u001b[0minput\u001b[0m\u001b[0;34m,\u001b[0m \u001b[0;34m**\u001b[0m\u001b[0mkwargs\u001b[0m\u001b[0;34m)\u001b[0m\u001b[0;34m\u001b[0m\u001b[0;34m\u001b[0m\u001b[0m\n\u001b[0m\u001b[1;32m   1052\u001b[0m         \u001b[0;31m# Do not call functions when jit is used\u001b[0m\u001b[0;34m\u001b[0m\u001b[0;34m\u001b[0m\u001b[0;34m\u001b[0m\u001b[0m\n\u001b[1;32m   1053\u001b[0m         \u001b[0mfull_backward_hooks\u001b[0m\u001b[0;34m,\u001b[0m \u001b[0mnon_full_backward_hooks\u001b[0m \u001b[0;34m=\u001b[0m \u001b[0;34m[\u001b[0m\u001b[0;34m]\u001b[0m\u001b[0;34m,\u001b[0m \u001b[0;34m[\u001b[0m\u001b[0;34m]\u001b[0m\u001b[0;34m\u001b[0m\u001b[0;34m\u001b[0m\u001b[0m\n",
            "\u001b[0;32m<ipython-input-88-0d64ef12e2a4>\u001b[0m in \u001b[0;36mforward\u001b[0;34m(self, t, x, node_attr, edge_attr)\u001b[0m\n\u001b[1;32m     30\u001b[0m         \u001b[0medge_index\u001b[0m \u001b[0;34m=\u001b[0m \u001b[0mself\u001b[0m\u001b[0;34m.\u001b[0m\u001b[0medge_index\u001b[0m\u001b[0;34m\u001b[0m\u001b[0;34m\u001b[0m\u001b[0m\n\u001b[1;32m     31\u001b[0m \u001b[0;34m\u001b[0m\u001b[0m\n\u001b[0;32m---> 32\u001b[0;31m         \u001b[0md_emb\u001b[0m \u001b[0;34m=\u001b[0m \u001b[0mself\u001b[0m\u001b[0;34m.\u001b[0m\u001b[0md_fc2\u001b[0m\u001b[0;34m(\u001b[0m\u001b[0mt\u001b[0m\u001b[0;34m,\u001b[0m \u001b[0mself\u001b[0m\u001b[0;34m.\u001b[0m\u001b[0mact\u001b[0m\u001b[0;34m(\u001b[0m\u001b[0mself\u001b[0m\u001b[0;34m.\u001b[0m\u001b[0md_fc1\u001b[0m\u001b[0;34m(\u001b[0m\u001b[0mt\u001b[0m\u001b[0;34m,\u001b[0m \u001b[0mx\u001b[0m\u001b[0;34m)\u001b[0m\u001b[0;34m)\u001b[0m\u001b[0;34m)\u001b[0m   \u001b[0;31m# Embedings for edge lengths `x`\u001b[0m\u001b[0;34m\u001b[0m\u001b[0;34m\u001b[0m\u001b[0m\n\u001b[0m\u001b[1;32m     33\u001b[0m         \u001b[0medge_attr\u001b[0m \u001b[0;34m=\u001b[0m \u001b[0md_emb\u001b[0m \u001b[0;34m*\u001b[0m \u001b[0medge_attr\u001b[0m\u001b[0;34m\u001b[0m\u001b[0;34m\u001b[0m\u001b[0m\n\u001b[1;32m     34\u001b[0m \u001b[0;34m\u001b[0m\u001b[0m\n",
            "\u001b[0;32m/usr/local/lib/python3.7/dist-packages/torch/nn/modules/module.py\u001b[0m in \u001b[0;36m_call_impl\u001b[0;34m(self, *input, **kwargs)\u001b[0m\n\u001b[1;32m   1049\u001b[0m         if not (self._backward_hooks or self._forward_hooks or self._forward_pre_hooks or _global_backward_hooks\n\u001b[1;32m   1050\u001b[0m                 or _global_forward_hooks or _global_forward_pre_hooks):\n\u001b[0;32m-> 1051\u001b[0;31m             \u001b[0;32mreturn\u001b[0m \u001b[0mforward_call\u001b[0m\u001b[0;34m(\u001b[0m\u001b[0;34m*\u001b[0m\u001b[0minput\u001b[0m\u001b[0;34m,\u001b[0m \u001b[0;34m**\u001b[0m\u001b[0mkwargs\u001b[0m\u001b[0;34m)\u001b[0m\u001b[0;34m\u001b[0m\u001b[0;34m\u001b[0m\u001b[0m\n\u001b[0m\u001b[1;32m   1052\u001b[0m         \u001b[0;31m# Do not call functions when jit is used\u001b[0m\u001b[0;34m\u001b[0m\u001b[0;34m\u001b[0m\u001b[0;34m\u001b[0m\u001b[0m\n\u001b[1;32m   1053\u001b[0m         \u001b[0mfull_backward_hooks\u001b[0m\u001b[0;34m,\u001b[0m \u001b[0mnon_full_backward_hooks\u001b[0m \u001b[0;34m=\u001b[0m \u001b[0;34m[\u001b[0m\u001b[0;34m]\u001b[0m\u001b[0;34m,\u001b[0m \u001b[0;34m[\u001b[0m\u001b[0;34m]\u001b[0m\u001b[0;34m\u001b[0m\u001b[0;34m\u001b[0m\u001b[0m\n",
            "\u001b[0;32m<ipython-input-90-79fec89d6cc2>\u001b[0m in \u001b[0;36mforward\u001b[0;34m(self, context, x)\u001b[0m\n\u001b[1;32m     74\u001b[0m \u001b[0;34m\u001b[0m\u001b[0m\n\u001b[1;32m     75\u001b[0m     \u001b[0;32mdef\u001b[0m \u001b[0mforward\u001b[0m\u001b[0;34m(\u001b[0m\u001b[0mself\u001b[0m\u001b[0;34m,\u001b[0m \u001b[0mcontext\u001b[0m\u001b[0;34m,\u001b[0m \u001b[0mx\u001b[0m\u001b[0;34m)\u001b[0m\u001b[0;34m:\u001b[0m\u001b[0;34m\u001b[0m\u001b[0;34m\u001b[0m\u001b[0m\n\u001b[0;32m---> 76\u001b[0;31m         \u001b[0mgate\u001b[0m \u001b[0;34m=\u001b[0m \u001b[0mtorch\u001b[0m\u001b[0;34m.\u001b[0m\u001b[0msigmoid\u001b[0m\u001b[0;34m(\u001b[0m\u001b[0mself\u001b[0m\u001b[0;34m.\u001b[0m\u001b[0m_hyper_gate\u001b[0m\u001b[0;34m(\u001b[0m\u001b[0mcontext\u001b[0m\u001b[0;34m)\u001b[0m\u001b[0;34m)\u001b[0m\u001b[0;34m\u001b[0m\u001b[0;34m\u001b[0m\u001b[0m\n\u001b[0m\u001b[1;32m     77\u001b[0m         \u001b[0mbias\u001b[0m \u001b[0;34m=\u001b[0m \u001b[0mself\u001b[0m\u001b[0;34m.\u001b[0m\u001b[0m_hyper_bias\u001b[0m\u001b[0;34m(\u001b[0m\u001b[0mcontext\u001b[0m\u001b[0;34m)\u001b[0m\u001b[0;34m\u001b[0m\u001b[0;34m\u001b[0m\u001b[0m\n\u001b[1;32m     78\u001b[0m         \u001b[0;32mif\u001b[0m \u001b[0mx\u001b[0m\u001b[0;34m.\u001b[0m\u001b[0mdim\u001b[0m\u001b[0;34m(\u001b[0m\u001b[0;34m)\u001b[0m \u001b[0;34m==\u001b[0m \u001b[0;36m3\u001b[0m\u001b[0;34m:\u001b[0m\u001b[0;34m\u001b[0m\u001b[0;34m\u001b[0m\u001b[0m\n",
            "\u001b[0;32m/usr/local/lib/python3.7/dist-packages/torch/nn/modules/module.py\u001b[0m in \u001b[0;36m_call_impl\u001b[0;34m(self, *input, **kwargs)\u001b[0m\n\u001b[1;32m   1049\u001b[0m         if not (self._backward_hooks or self._forward_hooks or self._forward_pre_hooks or _global_backward_hooks\n\u001b[1;32m   1050\u001b[0m                 or _global_forward_hooks or _global_forward_pre_hooks):\n\u001b[0;32m-> 1051\u001b[0;31m             \u001b[0;32mreturn\u001b[0m \u001b[0mforward_call\u001b[0m\u001b[0;34m(\u001b[0m\u001b[0;34m*\u001b[0m\u001b[0minput\u001b[0m\u001b[0;34m,\u001b[0m \u001b[0;34m**\u001b[0m\u001b[0mkwargs\u001b[0m\u001b[0;34m)\u001b[0m\u001b[0;34m\u001b[0m\u001b[0;34m\u001b[0m\u001b[0m\n\u001b[0m\u001b[1;32m   1052\u001b[0m         \u001b[0;31m# Do not call functions when jit is used\u001b[0m\u001b[0;34m\u001b[0m\u001b[0;34m\u001b[0m\u001b[0;34m\u001b[0m\u001b[0m\n\u001b[1;32m   1053\u001b[0m         \u001b[0mfull_backward_hooks\u001b[0m\u001b[0;34m,\u001b[0m \u001b[0mnon_full_backward_hooks\u001b[0m \u001b[0;34m=\u001b[0m \u001b[0;34m[\u001b[0m\u001b[0;34m]\u001b[0m\u001b[0;34m,\u001b[0m \u001b[0;34m[\u001b[0m\u001b[0;34m]\u001b[0m\u001b[0;34m\u001b[0m\u001b[0;34m\u001b[0m\u001b[0m\n",
            "\u001b[0;32m/usr/local/lib/python3.7/dist-packages/torch/nn/modules/linear.py\u001b[0m in \u001b[0;36mforward\u001b[0;34m(self, input)\u001b[0m\n\u001b[1;32m     94\u001b[0m \u001b[0;34m\u001b[0m\u001b[0m\n\u001b[1;32m     95\u001b[0m     \u001b[0;32mdef\u001b[0m \u001b[0mforward\u001b[0m\u001b[0;34m(\u001b[0m\u001b[0mself\u001b[0m\u001b[0;34m,\u001b[0m \u001b[0minput\u001b[0m\u001b[0;34m:\u001b[0m \u001b[0mTensor\u001b[0m\u001b[0;34m)\u001b[0m \u001b[0;34m->\u001b[0m \u001b[0mTensor\u001b[0m\u001b[0;34m:\u001b[0m\u001b[0;34m\u001b[0m\u001b[0;34m\u001b[0m\u001b[0m\n\u001b[0;32m---> 96\u001b[0;31m         \u001b[0;32mreturn\u001b[0m \u001b[0mF\u001b[0m\u001b[0;34m.\u001b[0m\u001b[0mlinear\u001b[0m\u001b[0;34m(\u001b[0m\u001b[0minput\u001b[0m\u001b[0;34m,\u001b[0m \u001b[0mself\u001b[0m\u001b[0;34m.\u001b[0m\u001b[0mweight\u001b[0m\u001b[0;34m,\u001b[0m \u001b[0mself\u001b[0m\u001b[0;34m.\u001b[0m\u001b[0mbias\u001b[0m\u001b[0;34m)\u001b[0m\u001b[0;34m\u001b[0m\u001b[0;34m\u001b[0m\u001b[0m\n\u001b[0m\u001b[1;32m     97\u001b[0m \u001b[0;34m\u001b[0m\u001b[0m\n\u001b[1;32m     98\u001b[0m     \u001b[0;32mdef\u001b[0m \u001b[0mextra_repr\u001b[0m\u001b[0;34m(\u001b[0m\u001b[0mself\u001b[0m\u001b[0;34m)\u001b[0m \u001b[0;34m->\u001b[0m \u001b[0mstr\u001b[0m\u001b[0;34m:\u001b[0m\u001b[0;34m\u001b[0m\u001b[0;34m\u001b[0m\u001b[0m\n",
            "\u001b[0;32m/usr/local/lib/python3.7/dist-packages/torch/nn/functional.py\u001b[0m in \u001b[0;36mlinear\u001b[0;34m(input, weight, bias)\u001b[0m\n\u001b[1;32m   1845\u001b[0m     \u001b[0;32mif\u001b[0m \u001b[0mhas_torch_function_variadic\u001b[0m\u001b[0;34m(\u001b[0m\u001b[0minput\u001b[0m\u001b[0;34m,\u001b[0m \u001b[0mweight\u001b[0m\u001b[0;34m)\u001b[0m\u001b[0;34m:\u001b[0m\u001b[0;34m\u001b[0m\u001b[0;34m\u001b[0m\u001b[0m\n\u001b[1;32m   1846\u001b[0m         \u001b[0;32mreturn\u001b[0m \u001b[0mhandle_torch_function\u001b[0m\u001b[0;34m(\u001b[0m\u001b[0mlinear\u001b[0m\u001b[0;34m,\u001b[0m \u001b[0;34m(\u001b[0m\u001b[0minput\u001b[0m\u001b[0;34m,\u001b[0m \u001b[0mweight\u001b[0m\u001b[0;34m)\u001b[0m\u001b[0;34m,\u001b[0m \u001b[0minput\u001b[0m\u001b[0;34m,\u001b[0m \u001b[0mweight\u001b[0m\u001b[0;34m,\u001b[0m \u001b[0mbias\u001b[0m\u001b[0;34m=\u001b[0m\u001b[0mbias\u001b[0m\u001b[0;34m)\u001b[0m\u001b[0;34m\u001b[0m\u001b[0;34m\u001b[0m\u001b[0m\n\u001b[0;32m-> 1847\u001b[0;31m     \u001b[0;32mreturn\u001b[0m \u001b[0mtorch\u001b[0m\u001b[0;34m.\u001b[0m\u001b[0m_C\u001b[0m\u001b[0;34m.\u001b[0m\u001b[0m_nn\u001b[0m\u001b[0;34m.\u001b[0m\u001b[0mlinear\u001b[0m\u001b[0;34m(\u001b[0m\u001b[0minput\u001b[0m\u001b[0;34m,\u001b[0m \u001b[0mweight\u001b[0m\u001b[0;34m,\u001b[0m \u001b[0mbias\u001b[0m\u001b[0;34m)\u001b[0m\u001b[0;34m\u001b[0m\u001b[0;34m\u001b[0m\u001b[0m\n\u001b[0m\u001b[1;32m   1848\u001b[0m \u001b[0;34m\u001b[0m\u001b[0m\n\u001b[1;32m   1849\u001b[0m \u001b[0;34m\u001b[0m\u001b[0m\n",
            "\u001b[0;31mRuntimeError\u001b[0m: both arguments to matmul need to be at least 1D, but they are 0D and 2D"
          ]
        }
      ]
    }
  ]
}